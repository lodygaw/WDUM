{
 "cells": [
  {
   "cell_type": "code",
   "execution_count": 1,
   "id": "b472a869",
   "metadata": {
    "scrolled": true
   },
   "outputs": [
    {
     "name": "stderr",
     "output_type": "stream",
     "text": [
      "\u001b[32m\u001b[1m  Activating\u001b[22m\u001b[39m project at `/Volumes/lodygaw/2022/learning/wdum`\n",
      "\u001b[32m\u001b[1m    Updating\u001b[22m\u001b[39m registry at `~/.julia/registries/General`\n",
      "\u001b[32m\u001b[1m    Updating\u001b[22m\u001b[39m git-repo `https://github.com/JuliaRegistries/General`\n",
      "\u001b[32m\u001b[1m   Resolving\u001b[22m\u001b[39m package versions...\n",
      "\u001b[32m\u001b[1m  No Changes\u001b[22m\u001b[39m to `/Volumes/lodygaw/2022/learning/wdum/Project.toml`\n",
      "\u001b[32m\u001b[1m  No Changes\u001b[22m\u001b[39m to `/Volumes/lodygaw/2022/learning/wdum/Manifest.toml`\n",
      "\u001b[32m\u001b[1m   Resolving\u001b[22m\u001b[39m package versions...\n",
      "\u001b[32m\u001b[1m  No Changes\u001b[22m\u001b[39m to `/Volumes/lodygaw/2022/learning/wdum/Project.toml`\n",
      "\u001b[32m\u001b[1m  No Changes\u001b[22m\u001b[39m to `/Volumes/lodygaw/2022/learning/wdum/Manifest.toml`\n",
      "\u001b[32m\u001b[1m   Resolving\u001b[22m\u001b[39m package versions...\n",
      "\u001b[32m\u001b[1m  No Changes\u001b[22m\u001b[39m to `/Volumes/lodygaw/2022/learning/wdum/Project.toml`\n",
      "\u001b[32m\u001b[1m  No Changes\u001b[22m\u001b[39m to `/Volumes/lodygaw/2022/learning/wdum/Manifest.toml`\n",
      "\u001b[32m\u001b[1m   Resolving\u001b[22m\u001b[39m package versions...\n",
      "\u001b[32m\u001b[1m  No Changes\u001b[22m\u001b[39m to `/Volumes/lodygaw/2022/learning/wdum/Project.toml`\n",
      "\u001b[32m\u001b[1m  No Changes\u001b[22m\u001b[39m to `/Volumes/lodygaw/2022/learning/wdum/Manifest.toml`\n",
      "\u001b[32m\u001b[1m   Resolving\u001b[22m\u001b[39m package versions...\n",
      "\u001b[32m\u001b[1m  No Changes\u001b[22m\u001b[39m to `/Volumes/lodygaw/2022/learning/wdum/Project.toml`\n",
      "\u001b[32m\u001b[1m  No Changes\u001b[22m\u001b[39m to `/Volumes/lodygaw/2022/learning/wdum/Manifest.toml`\n",
      "\u001b[32m\u001b[1m   Resolving\u001b[22m\u001b[39m package versions...\n",
      "\u001b[32m\u001b[1m  No Changes\u001b[22m\u001b[39m to `/Volumes/lodygaw/2022/learning/wdum/Project.toml`\n",
      "\u001b[32m\u001b[1m  No Changes\u001b[22m\u001b[39m to `/Volumes/lodygaw/2022/learning/wdum/Manifest.toml`\n",
      "\u001b[32m\u001b[1m   Resolving\u001b[22m\u001b[39m package versions...\n",
      "\u001b[32m\u001b[1m  No Changes\u001b[22m\u001b[39m to `/Volumes/lodygaw/2022/learning/wdum/Project.toml`\n",
      "\u001b[32m\u001b[1m  No Changes\u001b[22m\u001b[39m to `/Volumes/lodygaw/2022/learning/wdum/Manifest.toml`\n",
      "\u001b[32m\u001b[1m  No Changes\u001b[22m\u001b[39m to `/Volumes/lodygaw/2022/learning/wdum/Project.toml`\n",
      "\u001b[32m\u001b[1m  No Changes\u001b[22m\u001b[39m to `/Volumes/lodygaw/2022/learning/wdum/Manifest.toml`\n"
     ]
    }
   ],
   "source": [
    "import Pkg\n",
    "Pkg.activate(\".\")\n",
    "Pkg.add(\"Distributions\")\n",
    "Pkg.add(\"Statistics\")\n",
    "Pkg.add(\"StatsBase\")\n",
    "Pkg.add(\"ARFFFiles\")\n",
    "Pkg.add(\"DataFrames\")\n",
    "Pkg.add(\"ScikitLearn\")\n",
    "Pkg.add(\"ProfileSVG\")\n",
    "Pkg.resolve();"
   ]
  },
  {
   "cell_type": "code",
   "execution_count": 11,
   "id": "a936a30d",
   "metadata": {},
   "outputs": [
    {
     "name": "stderr",
     "output_type": "stream",
     "text": [
      "┌ Info: Running `conda install -y -c conda-forge llvm-openmp` in root environment\n",
      "└ @ Conda /Users/lodygaw/.julia/packages/Conda/x2UxR/src/Conda.jl:127\n"
     ]
    },
    {
     "name": "stdout",
     "output_type": "stream",
     "text": [
      "Collecting package metadata (current_repodata.json): ...working... done\n",
      "Solving environment: ...working... done\n",
      "\n",
      "# All requested packages already installed.\n",
      "\n"
     ]
    },
    {
     "name": "stderr",
     "output_type": "stream",
     "text": [
      "WARNING: redefinition of constant RidgeClassifierCV. This may fail, cause incorrect answers, or produce other errors.\n"
     ]
    },
    {
     "data": {
      "text/plain": [
       "apply_kernel_univariate (generic function with 1 method)"
      ]
     },
     "execution_count": 11,
     "metadata": {},
     "output_type": "execute_result"
    }
   ],
   "source": [
    "using ProfileSVG, BenchmarkTools\n",
    "using ScikitLearn\n",
    "@sk_import linear_model : RidgeClassifierCV\n",
    "\n",
    "include(\"datasets.jl\")\n",
    "include(\"rocket.jl\")"
   ]
  },
  {
   "cell_type": "code",
   "execution_count": 12,
   "id": "499a9c6e",
   "metadata": {},
   "outputs": [],
   "source": [
    "include(\"datasets.jl\")\n",
    "X_train, y_train, X_test, y_test = load_dataset(\"Epilepsy\");"
   ]
  },
  {
   "cell_type": "code",
   "execution_count": 13,
   "id": "8ed2447b",
   "metadata": {},
   "outputs": [
    {
     "name": "stdout",
     "output_type": "stream",
     "text": [
      "Class EPILEPSY stratification (34 elements):\n",
      "  Range 0.1<=x<=0.4: \t11/34\n",
      "  Range 0.4<x<=0.7: \t12/34\n",
      "  Range 0.7<x<=1.0: \t11/34\n",
      "\n",
      "Class WALKING stratification (37 elements):\n",
      "  Range 0.1<=x<=0.4: \t12/37\n",
      "  Range 0.4<x<=0.7: \t13/37\n",
      "  Range 0.7<x<=1.0: \t12/37\n",
      "\n",
      "Class RUNNING stratification (36 elements):\n",
      "  Range 0.1<=x<=0.4: \t12/36\n",
      "  Range 0.4<x<=0.7: \t12/36\n",
      "  Range 0.7<x<=1.0: \t12/36\n",
      "\n",
      "Class SAWING stratification (30 elements):\n",
      "  Range 0.1<=x<=0.4: \t10/30\n",
      "  Range 0.4<x<=0.7: \t10/30\n",
      "  Range 0.7<x<=1.0: \t10/30\n",
      "\n"
     ]
    }
   ],
   "source": [
    "ranges = (Interval{Closed, Closed}(0.1, 0.4),\n",
    "          Interval{Open, Closed}(0.4, 0.7),\n",
    "          Interval{Open, Closed}(0.7,1.0))\n",
    "\n",
    "trim_timeseries!(X_train, y_train, ranges)\n",
    "show_stratification(X_train, y_train)"
   ]
  },
  {
   "cell_type": "code",
   "execution_count": 14,
   "id": "eb2d8641",
   "metadata": {},
   "outputs": [],
   "source": [
    "rocket = Rocket()\n",
    "fit!(rocket, X_train);"
   ]
  },
  {
   "cell_type": "code",
   "execution_count": 15,
   "id": "799be4e2",
   "metadata": {},
   "outputs": [
    {
     "data": {
      "text/plain": [
       "137×20000 Matrix{Float32}:\n",
       " 0.0  -Inf  0.0  -Inf  0.0  -Inf  0.0  …  0.0  -Inf  0.0  -Inf  0.0  -Inf\n",
       " 0.0  -Inf  0.0  -Inf  0.0  -Inf  0.0     0.0  -Inf  0.0  -Inf  0.0  -Inf\n",
       " 0.0  -Inf  0.0  -Inf  0.0  -Inf  0.0     0.0  -Inf  0.0  -Inf  0.0  -Inf\n",
       " 0.0  -Inf  0.0  -Inf  0.0  -Inf  0.0     0.0  -Inf  0.0  -Inf  0.0  -Inf\n",
       " 0.0  -Inf  0.0  -Inf  0.0  -Inf  0.0     0.0  -Inf  0.0  -Inf  0.0  -Inf\n",
       " 0.0  -Inf  0.0  -Inf  0.0  -Inf  0.0  …  0.0  -Inf  0.0  -Inf  0.0  -Inf\n",
       " 0.0  -Inf  0.0  -Inf  0.0  -Inf  0.0     0.0  -Inf  0.0  -Inf  0.0  -Inf\n",
       " 0.0  -Inf  0.0  -Inf  0.0  -Inf  0.0     0.0  -Inf  0.0  -Inf  0.0  -Inf\n",
       " 0.0  -Inf  0.0  -Inf  0.0  -Inf  0.0     0.0  -Inf  0.0  -Inf  0.0  -Inf\n",
       " 0.0  -Inf  0.0  -Inf  0.0  -Inf  0.0     0.0  -Inf  0.0  -Inf  0.0  -Inf\n",
       " 0.0  -Inf  0.0  -Inf  0.0  -Inf  0.0  …  0.0  -Inf  0.0  -Inf  0.0  -Inf\n",
       " 0.0  -Inf  0.0  -Inf  0.0  -Inf  0.0     0.0  -Inf  0.0  -Inf  0.0  -Inf\n",
       " 0.0  -Inf  0.0  -Inf  0.0  -Inf  0.0     0.0  -Inf  0.0  -Inf  0.0  -Inf\n",
       " ⋮                            ⋮        ⋱         ⋮                   \n",
       " 0.0  -Inf  0.0  -Inf  0.0  -Inf  0.0  …  0.0  -Inf  0.0  -Inf  0.0  -Inf\n",
       " 0.0  -Inf  0.0  -Inf  0.0  -Inf  0.0     0.0  -Inf  0.0  -Inf  0.0  -Inf\n",
       " 0.0  -Inf  0.0  -Inf  0.0  -Inf  0.0     0.0  -Inf  0.0  -Inf  0.0  -Inf\n",
       " 0.0  -Inf  0.0  -Inf  0.0  -Inf  0.0     0.0  -Inf  0.0  -Inf  0.0  -Inf\n",
       " 0.0  -Inf  0.0  -Inf  0.0  -Inf  0.0     0.0  -Inf  0.0  -Inf  0.0  -Inf\n",
       " 0.0  -Inf  0.0  -Inf  0.0  -Inf  0.0  …  0.0  -Inf  0.0  -Inf  0.0  -Inf\n",
       " 0.0  -Inf  0.0  -Inf  0.0  -Inf  0.0     0.0  -Inf  0.0  -Inf  0.0  -Inf\n",
       " 0.0  -Inf  0.0  -Inf  0.0  -Inf  0.0     0.0  -Inf  0.0  -Inf  0.0  -Inf\n",
       " 0.0  -Inf  0.0  -Inf  0.0  -Inf  0.0     0.0  -Inf  0.0  -Inf  0.0  -Inf\n",
       " 0.0  -Inf  0.0  -Inf  0.0  -Inf  0.0     0.0  -Inf  0.0  -Inf  0.0  -Inf\n",
       " 0.0  -Inf  0.0  -Inf  0.0  -Inf  0.0  …  0.0  -Inf  0.0  -Inf  0.0  -Inf\n",
       " 0.0  -Inf  0.0  -Inf  0.0  -Inf  0.0     0.0  -Inf  0.0  -Inf  0.0  -Inf"
      ]
     },
     "execution_count": 15,
     "metadata": {},
     "output_type": "execute_result"
    }
   ],
   "source": [
    "X_train_transform = transform!(rocket, X_train)"
   ]
  },
  {
   "cell_type": "code",
   "execution_count": 16,
   "id": "dd426bc6",
   "metadata": {},
   "outputs": [
    {
     "data": {
      "text/plain": [
       "138×20000 Matrix{Float32}:\n",
       " 0.0873786   4.39445  0.0638298  0.370309  …   3.66248    0.443878   5.94707\n",
       " 0.145631    6.31705  0.12766    1.28548       0.0340071  0.336735   9.03295\n",
       " 0.373786    5.78658  0.18617    2.45052      -1.62827    0.443878  12.5679\n",
       " 0.223301    1.54338  0.101064   1.30831      -2.73494    0.372449  12.1219\n",
       " 0.436893    6.9516   0.393617   4.06363       0.982689   0.47449    6.04774\n",
       " 0.135922    3.80131  0.175532   1.27961   …   2.04049    0.397959   8.65579\n",
       " 0.165049    4.38511  0.132979   1.94384       2.63092    0.336735   9.52607\n",
       " 0.368932    5.01312  0.212766   6.05993       0.575189   0.331633  12.0571\n",
       " 0.305825    2.8734   0.12766    2.40666       0.620598   0.295918   6.11783\n",
       " 0.194175   13.0896   0.143617   7.50034       0.506881   0.260204  13.3493\n",
       " 0.456311    5.25601  0.393617   4.77912   …  -0.0103899  0.438776   8.58833\n",
       " 0.42233     3.89559  0.202128   1.48244      -1.91291    0.321429   7.45705\n",
       " 0.34466     4.12635  0.281915   1.83567       0.034164   0.443878   9.92395\n",
       " ⋮                                         ⋱                        \n",
       " 0.456311    2.15016  0.446809   3.59285       1.00148    0.372449   3.02632\n",
       " 0.485437    2.96099  0.462766   3.08593       2.72103    0.464286   9.06204\n",
       " 0.485437    3.5398   0.430851   3.05001       1.06101    0.433673   5.74611\n",
       " 0.407767    3.6184   0.43617    3.81656       0.397436   0.464286   9.54109\n",
       " 0.470874    7.68075  0.430851   3.96265   …   2.24633    0.464286  12.7729\n",
       " 0.485437    3.61544  0.452128   3.63119       3.39913    0.454082  10.0595\n",
       " 0.451456    4.40964  0.420213   3.28689       1.99869    0.423469   6.21895\n",
       " 0.432039    4.73052  0.425532   3.55689       1.64979    0.423469   7.54306\n",
       " 0.475728    8.76207  0.409574   4.00151       2.57971    0.438776  12.3229\n",
       " 0.378641    4.5463   0.37766    4.05783   …   0.695913   0.428571   5.74186\n",
       " 0.383495    3.43561  0.425532   3.36301       0.587319   0.392857   4.56939\n",
       " 0.398058    3.65186  0.43617    3.31277       2.3766     0.403061   6.01943"
      ]
     },
     "execution_count": 16,
     "metadata": {},
     "output_type": "execute_result"
    }
   ],
   "source": [
    "X_test_transform = transform!(rocket, X_test)"
   ]
  },
  {
   "cell_type": "code",
   "execution_count": 17,
   "id": "5f3272b0",
   "metadata": {
    "scrolled": false
   },
   "outputs": [
    {
     "ename": "LoadError",
     "evalue": "PyError ($(Expr(:escape, :(ccall(#= /Users/lodygaw/.julia/packages/PyCall/ygXW2/src/pyfncall.jl:43 =# @pysym(:PyObject_Call), PyPtr, (PyPtr, PyPtr, PyPtr), o, pyargsptr, kw))))) <class 'ValueError'>\nValueError(\"Input contains NaN, infinity or a value too large for dtype('float32').\")\n  File \"/Users/lodygaw/.julia/conda/3/lib/python3.8/site-packages/sklearn/linear_model/_ridge.py\", line 2387, in fit\n    X, y, sample_weight, Y = self._prepare_data(X, y, sample_weight, solver=\"eigen\")\n  File \"/Users/lodygaw/.julia/conda/3/lib/python3.8/site-packages/sklearn/linear_model/_ridge.py\", line 1048, in _prepare_data\n    X, y = self._validate_data(\n  File \"/Users/lodygaw/.julia/conda/3/lib/python3.8/site-packages/sklearn/base.py\", line 581, in _validate_data\n    X, y = check_X_y(X, y, **check_params)\n  File \"/Users/lodygaw/.julia/conda/3/lib/python3.8/site-packages/sklearn/utils/validation.py\", line 964, in check_X_y\n    X = check_array(\n  File \"/Users/lodygaw/.julia/conda/3/lib/python3.8/site-packages/sklearn/utils/validation.py\", line 800, in check_array\n    _assert_all_finite(array, allow_nan=force_all_finite == \"allow-nan\")\n  File \"/Users/lodygaw/.julia/conda/3/lib/python3.8/site-packages/sklearn/utils/validation.py\", line 114, in _assert_all_finite\n    raise ValueError(\n",
     "output_type": "error",
     "traceback": [
      "PyError ($(Expr(:escape, :(ccall(#= /Users/lodygaw/.julia/packages/PyCall/ygXW2/src/pyfncall.jl:43 =# @pysym(:PyObject_Call), PyPtr, (PyPtr, PyPtr, PyPtr), o, pyargsptr, kw))))) <class 'ValueError'>\nValueError(\"Input contains NaN, infinity or a value too large for dtype('float32').\")\n  File \"/Users/lodygaw/.julia/conda/3/lib/python3.8/site-packages/sklearn/linear_model/_ridge.py\", line 2387, in fit\n    X, y, sample_weight, Y = self._prepare_data(X, y, sample_weight, solver=\"eigen\")\n  File \"/Users/lodygaw/.julia/conda/3/lib/python3.8/site-packages/sklearn/linear_model/_ridge.py\", line 1048, in _prepare_data\n    X, y = self._validate_data(\n  File \"/Users/lodygaw/.julia/conda/3/lib/python3.8/site-packages/sklearn/base.py\", line 581, in _validate_data\n    X, y = check_X_y(X, y, **check_params)\n  File \"/Users/lodygaw/.julia/conda/3/lib/python3.8/site-packages/sklearn/utils/validation.py\", line 964, in check_X_y\n    X = check_array(\n  File \"/Users/lodygaw/.julia/conda/3/lib/python3.8/site-packages/sklearn/utils/validation.py\", line 800, in check_array\n    _assert_all_finite(array, allow_nan=force_all_finite == \"allow-nan\")\n  File \"/Users/lodygaw/.julia/conda/3/lib/python3.8/site-packages/sklearn/utils/validation.py\", line 114, in _assert_all_finite\n    raise ValueError(\n",
      "",
      "Stacktrace:",
      "  [1] pyerr_check",
      "    @ ~/.julia/packages/PyCall/ygXW2/src/exception.jl:62 [inlined]",
      "  [2] pyerr_check",
      "    @ ~/.julia/packages/PyCall/ygXW2/src/exception.jl:66 [inlined]",
      "  [3] _handle_error(msg::String)",
      "    @ PyCall ~/.julia/packages/PyCall/ygXW2/src/exception.jl:83",
      "  [4] macro expansion",
      "    @ ~/.julia/packages/PyCall/ygXW2/src/exception.jl:97 [inlined]",
      "  [5] #107",
      "    @ ~/.julia/packages/PyCall/ygXW2/src/pyfncall.jl:43 [inlined]",
      "  [6] disable_sigint",
      "    @ ./c.jl:458 [inlined]",
      "  [7] __pycall!",
      "    @ ~/.julia/packages/PyCall/ygXW2/src/pyfncall.jl:42 [inlined]",
      "  [8] _pycall!(ret::PyCall.PyObject, o::PyCall.PyObject, args::Tuple{Matrix{Float32}, Vector{String}}, nargs::Int64, kw::Ptr{Nothing})",
      "    @ PyCall ~/.julia/packages/PyCall/ygXW2/src/pyfncall.jl:29",
      "  [9] _pycall!(ret::PyCall.PyObject, o::PyCall.PyObject, args::Tuple{Matrix{Float32}, Vector{String}}, kwargs::Base.Pairs{Symbol, Union{}, Tuple{}, NamedTuple{(), Tuple{}}})",
      "    @ PyCall ~/.julia/packages/PyCall/ygXW2/src/pyfncall.jl:11",
      " [10] (::PyCall.PyObject)(::Matrix{Float32}, ::Vararg{Any}; kwargs::Base.Pairs{Symbol, Union{}, Tuple{}, NamedTuple{(), Tuple{}}})",
      "    @ PyCall ~/.julia/packages/PyCall/ygXW2/src/pyfncall.jl:86",
      " [11] (::PyCall.PyObject)(::Matrix{Float32}, ::Vararg{Any})",
      "    @ PyCall ~/.julia/packages/PyCall/ygXW2/src/pyfncall.jl:86",
      " [12] top-level scope",
      "    @ In[17]:5",
      " [13] eval",
      "    @ ./boot.jl:373 [inlined]",
      " [14] include_string(mapexpr::typeof(REPL.softscope), mod::Module, code::String, filename::String)",
      "    @ Base ./loading.jl:1196"
     ]
    }
   ],
   "source": [
    "alphas = [1.00000000e-03, 4.64158883e-03, 2.15443469e-02, 1.00000000e-01,\n",
    "       4.64158883e-01, 2.15443469e+00, 1.00000000e+01, 4.64158883e+01,\n",
    "       2.15443469e+02, 1.00000000e+03]\n",
    "ridge = RidgeClassifierCV(alphas=alphas, normalize=true);\n",
    "ridge.fit(X_train_transform, y_train)\n",
    "ridge.score(X_test_transform, y_test)"
   ]
  },
  {
   "cell_type": "code",
   "execution_count": null,
   "id": "7ce50e6f",
   "metadata": {},
   "outputs": [],
   "source": []
  }
 ],
 "metadata": {
  "kernelspec": {
   "display_name": "Julia 4 Threads 1.7.3",
   "language": "julia",
   "name": "julia-4-threads-1.7"
  },
  "language_info": {
   "file_extension": ".jl",
   "mimetype": "application/julia",
   "name": "julia",
   "version": "1.7.3"
  }
 },
 "nbformat": 4,
 "nbformat_minor": 5
}
