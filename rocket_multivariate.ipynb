{
 "cells": [
  {
   "cell_type": "code",
   "execution_count": 1,
   "id": "b472a869",
   "metadata": {},
   "outputs": [
    {
     "name": "stderr",
     "output_type": "stream",
     "text": [
      "\u001b[32m\u001b[1m  Activating\u001b[22m\u001b[39m project at `/Volumes/lodygaw/qnap | 2022/wdum`\n",
      "\u001b[32m\u001b[1m    Updating\u001b[22m\u001b[39m registry at `~/.julia/registries/General`\n",
      "\u001b[32m\u001b[1m    Updating\u001b[22m\u001b[39m git-repo `https://github.com/JuliaRegistries/General.git`\n",
      "\u001b[32m\u001b[1m   Resolving\u001b[22m\u001b[39m package versions...\n",
      "\u001b[32m\u001b[1m  No Changes\u001b[22m\u001b[39m to `/Volumes/lodygaw/qnap | 2022/wdum/Project.toml`\n",
      "\u001b[32m\u001b[1m  No Changes\u001b[22m\u001b[39m to `/Volumes/lodygaw/qnap | 2022/wdum/Manifest.toml`\n",
      "\u001b[32m\u001b[1m   Resolving\u001b[22m\u001b[39m package versions...\n",
      "\u001b[32m\u001b[1m  No Changes\u001b[22m\u001b[39m to `/Volumes/lodygaw/qnap | 2022/wdum/Project.toml`\n",
      "\u001b[32m\u001b[1m  No Changes\u001b[22m\u001b[39m to `/Volumes/lodygaw/qnap | 2022/wdum/Manifest.toml`\n",
      "\u001b[32m\u001b[1m   Resolving\u001b[22m\u001b[39m package versions...\n",
      "\u001b[32m\u001b[1m  No Changes\u001b[22m\u001b[39m to `/Volumes/lodygaw/qnap | 2022/wdum/Project.toml`\n",
      "\u001b[32m\u001b[1m  No Changes\u001b[22m\u001b[39m to `/Volumes/lodygaw/qnap | 2022/wdum/Manifest.toml`\n",
      "\u001b[32m\u001b[1m   Resolving\u001b[22m\u001b[39m package versions...\n",
      "\u001b[32m\u001b[1m  No Changes\u001b[22m\u001b[39m to `/Volumes/lodygaw/qnap | 2022/wdum/Project.toml`\n",
      "\u001b[32m\u001b[1m  No Changes\u001b[22m\u001b[39m to `/Volumes/lodygaw/qnap | 2022/wdum/Manifest.toml`\n",
      "\u001b[32m\u001b[1m   Resolving\u001b[22m\u001b[39m package versions...\n",
      "\u001b[32m\u001b[1m  No Changes\u001b[22m\u001b[39m to `/Volumes/lodygaw/qnap | 2022/wdum/Project.toml`\n",
      "\u001b[32m\u001b[1m  No Changes\u001b[22m\u001b[39m to `/Volumes/lodygaw/qnap | 2022/wdum/Manifest.toml`\n",
      "\u001b[32m\u001b[1m   Resolving\u001b[22m\u001b[39m package versions...\n",
      "\u001b[32m\u001b[1m  No Changes\u001b[22m\u001b[39m to `/Volumes/lodygaw/qnap | 2022/wdum/Project.toml`\n",
      "\u001b[32m\u001b[1m  No Changes\u001b[22m\u001b[39m to `/Volumes/lodygaw/qnap | 2022/wdum/Manifest.toml`\n",
      "\u001b[32m\u001b[1m  No Changes\u001b[22m\u001b[39m to `/Volumes/lodygaw/qnap | 2022/wdum/Project.toml`\n",
      "\u001b[32m\u001b[1m  No Changes\u001b[22m\u001b[39m to `/Volumes/lodygaw/qnap | 2022/wdum/Manifest.toml`\n"
     ]
    }
   ],
   "source": [
    "import Pkg\n",
    "Pkg.activate(\".\")\n",
    "Pkg.add(\"StaticArrays\")\n",
    "Pkg.add(\"Distributions\")\n",
    "Pkg.add(\"Statistics\")\n",
    "Pkg.add(\"StatsBase\")\n",
    "Pkg.add(\"ARFFFiles\")\n",
    "Pkg.add(\"DataFrames\")\n",
    "Pkg.resolve()"
   ]
  },
  {
   "cell_type": "code",
   "execution_count": 2,
   "id": "2d1a07f7",
   "metadata": {},
   "outputs": [],
   "source": [
    "using ARFFFiles, DataFrames\n",
    "acc_x_train = ARFFFiles.load(DataFrame, \"./datasets/BasicMotions/BasicMotionsDimension1_TRAIN.arff\");\n",
    "acc_y_train = ARFFFiles.load(DataFrame, \"./datasets/BasicMotions/BasicMotionsDimension2_TRAIN.arff\");\n",
    "acc_z_train = ARFFFiles.load(DataFrame, \"./datasets/BasicMotions/BasicMotionsDimension3_TRAIN.arff\");\n",
    "gyr_x_train = ARFFFiles.load(DataFrame, \"./datasets/BasicMotions/BasicMotionsDimension4_TRAIN.arff\");\n",
    "gyr_y_train = ARFFFiles.load(DataFrame, \"./datasets/BasicMotions/BasicMotionsDimension5_TRAIN.arff\");\n",
    "gyr_z_train = ARFFFiles.load(DataFrame, \"./datasets/BasicMotions/BasicMotionsDimension6_TRAIN.arff\");\n",
    "acc_x_test = ARFFFiles.load(DataFrame, \"./datasets/BasicMotions/BasicMotionsDimension1_TEST.arff\");\n",
    "acc_y_test = ARFFFiles.load(DataFrame, \"./datasets/BasicMotions/BasicMotionsDimension2_TEST.arff\");\n",
    "acc_z_test = ARFFFiles.load(DataFrame, \"./datasets/BasicMotions/BasicMotionsDimension3_TEST.arff\");\n",
    "gyr_x_test = ARFFFiles.load(DataFrame, \"./datasets/BasicMotions/BasicMotionsDimension4_TEST.arff\");\n",
    "gyr_y_test = ARFFFiles.load(DataFrame, \"./datasets/BasicMotions/BasicMotionsDimension5_TEST.arff\");\n",
    "gyr_z_test = ARFFFiles.load(DataFrame, \"./datasets/BasicMotions/BasicMotionsDimension6_TEST.arff\");"
   ]
  },
  {
   "cell_type": "code",
   "execution_count": 3,
   "id": "53454a2a",
   "metadata": {},
   "outputs": [
    {
     "data": {
      "text/html": [
       "<div><div style = \"float: left;\"><span>DataFrameRow (101 columns)</span></div><div style = \"float: right;\"><span style = \"font-style: italic;\">1 column omitted</span></div><div style = \"clear: both;\"></div></div><div class = \"data-frame\" style = \"overflow-x: scroll;\"><table class = \"data-frame\" style = \"margin-bottom: 6px;\"><thead><tr class = \"header\"><th class = \"rowLabel\" style = \"font-weight: bold; text-align: right;\">Row</th><th style = \"text-align: left;\">channel_0_0</th><th style = \"text-align: left;\">channel_0_1</th><th style = \"text-align: left;\">channel_0_2</th><th style = \"text-align: left;\">channel_0_3</th><th style = \"text-align: left;\">channel_0_4</th><th style = \"text-align: left;\">channel_0_5</th><th style = \"text-align: left;\">channel_0_6</th><th style = \"text-align: left;\">channel_0_7</th><th style = \"text-align: left;\">channel_0_8</th><th style = \"text-align: left;\">channel_0_9</th><th style = \"text-align: left;\">channel_0_10</th><th style = \"text-align: left;\">channel_0_11</th><th style = \"text-align: left;\">channel_0_12</th><th style = \"text-align: left;\">channel_0_13</th><th style = \"text-align: left;\">channel_0_14</th><th style = \"text-align: left;\">channel_0_15</th><th style = \"text-align: left;\">channel_0_16</th><th style = \"text-align: left;\">channel_0_17</th><th style = \"text-align: left;\">channel_0_18</th><th style = \"text-align: left;\">channel_0_19</th><th style = \"text-align: left;\">channel_0_20</th><th style = \"text-align: left;\">channel_0_21</th><th style = \"text-align: left;\">channel_0_22</th><th style = \"text-align: left;\">channel_0_23</th><th style = \"text-align: left;\">channel_0_24</th><th style = \"text-align: left;\">channel_0_25</th><th style = \"text-align: left;\">channel_0_26</th><th style = \"text-align: left;\">channel_0_27</th><th style = \"text-align: left;\">channel_0_28</th><th style = \"text-align: left;\">channel_0_29</th><th style = \"text-align: left;\">channel_0_30</th><th style = \"text-align: left;\">channel_0_31</th><th style = \"text-align: left;\">channel_0_32</th><th style = \"text-align: left;\">channel_0_33</th><th style = \"text-align: left;\">channel_0_34</th><th style = \"text-align: left;\">channel_0_35</th><th style = \"text-align: left;\">channel_0_36</th><th style = \"text-align: left;\">channel_0_37</th><th style = \"text-align: left;\">channel_0_38</th><th style = \"text-align: left;\">channel_0_39</th><th style = \"text-align: left;\">channel_0_40</th><th style = \"text-align: left;\">channel_0_41</th><th style = \"text-align: left;\">channel_0_42</th><th style = \"text-align: left;\">channel_0_43</th><th style = \"text-align: left;\">channel_0_44</th><th style = \"text-align: left;\">channel_0_45</th><th style = \"text-align: left;\">channel_0_46</th><th style = \"text-align: left;\">channel_0_47</th><th style = \"text-align: left;\">channel_0_48</th><th style = \"text-align: left;\">channel_0_49</th><th style = \"text-align: left;\">channel_0_50</th><th style = \"text-align: left;\">channel_0_51</th><th style = \"text-align: left;\">channel_0_52</th><th style = \"text-align: left;\">channel_0_53</th><th style = \"text-align: left;\">channel_0_54</th><th style = \"text-align: left;\">channel_0_55</th><th style = \"text-align: left;\">channel_0_56</th><th style = \"text-align: left;\">channel_0_57</th><th style = \"text-align: left;\">channel_0_58</th><th style = \"text-align: left;\">channel_0_59</th><th style = \"text-align: left;\">channel_0_60</th><th style = \"text-align: left;\">channel_0_61</th><th style = \"text-align: left;\">channel_0_62</th><th style = \"text-align: left;\">channel_0_63</th><th style = \"text-align: left;\">channel_0_64</th><th style = \"text-align: left;\">channel_0_65</th><th style = \"text-align: left;\">channel_0_66</th><th style = \"text-align: left;\">channel_0_67</th><th style = \"text-align: left;\">channel_0_68</th><th style = \"text-align: left;\">channel_0_69</th><th style = \"text-align: left;\">channel_0_70</th><th style = \"text-align: left;\">channel_0_71</th><th style = \"text-align: left;\">channel_0_72</th><th style = \"text-align: left;\">channel_0_73</th><th style = \"text-align: left;\">channel_0_74</th><th style = \"text-align: left;\">channel_0_75</th><th style = \"text-align: left;\">channel_0_76</th><th style = \"text-align: left;\">channel_0_77</th><th style = \"text-align: left;\">channel_0_78</th><th style = \"text-align: left;\">channel_0_79</th><th style = \"text-align: left;\">channel_0_80</th><th style = \"text-align: left;\">channel_0_81</th><th style = \"text-align: left;\">channel_0_82</th><th style = \"text-align: left;\">channel_0_83</th><th style = \"text-align: left;\">channel_0_84</th><th style = \"text-align: left;\">channel_0_85</th><th style = \"text-align: left;\">channel_0_86</th><th style = \"text-align: left;\">channel_0_87</th><th style = \"text-align: left;\">channel_0_88</th><th style = \"text-align: left;\">channel_0_89</th><th style = \"text-align: left;\">channel_0_90</th><th style = \"text-align: left;\">channel_0_91</th><th style = \"text-align: left;\">channel_0_92</th><th style = \"text-align: left;\">channel_0_93</th><th style = \"text-align: left;\">channel_0_94</th><th style = \"text-align: left;\">channel_0_95</th><th style = \"text-align: left;\">channel_0_96</th><th style = \"text-align: left;\">channel_0_97</th><th style = \"text-align: left;\">channel_0_98</th><th style = \"text-align: left;\">channel_0_99</th><th style = \"text-align: right;\">&ctdot;</th></tr><tr class = \"subheader headerLastRow\"><th class = \"rowLabel\" style = \"font-weight: bold; text-align: right;\"></th><th title = \"Float64\" style = \"text-align: left;\">Float64</th><th title = \"Float64\" style = \"text-align: left;\">Float64</th><th title = \"Float64\" style = \"text-align: left;\">Float64</th><th title = \"Float64\" style = \"text-align: left;\">Float64</th><th title = \"Float64\" style = \"text-align: left;\">Float64</th><th title = \"Float64\" style = \"text-align: left;\">Float64</th><th title = \"Float64\" style = \"text-align: left;\">Float64</th><th title = \"Float64\" style = \"text-align: left;\">Float64</th><th title = \"Float64\" style = \"text-align: left;\">Float64</th><th title = \"Float64\" style = \"text-align: left;\">Float64</th><th title = \"Float64\" style = \"text-align: left;\">Float64</th><th title = \"Float64\" style = \"text-align: left;\">Float64</th><th title = \"Float64\" style = \"text-align: left;\">Float64</th><th title = \"Float64\" style = \"text-align: left;\">Float64</th><th title = \"Float64\" style = \"text-align: left;\">Float64</th><th title = \"Float64\" style = \"text-align: left;\">Float64</th><th title = \"Float64\" style = \"text-align: left;\">Float64</th><th title = \"Float64\" style = \"text-align: left;\">Float64</th><th title = \"Float64\" style = \"text-align: left;\">Float64</th><th title = \"Float64\" style = \"text-align: left;\">Float64</th><th title = \"Float64\" style = \"text-align: left;\">Float64</th><th title = \"Float64\" style = \"text-align: left;\">Float64</th><th title = \"Float64\" style = \"text-align: left;\">Float64</th><th title = \"Float64\" style = \"text-align: left;\">Float64</th><th title = \"Float64\" style = \"text-align: left;\">Float64</th><th title = \"Float64\" style = \"text-align: left;\">Float64</th><th title = \"Float64\" style = \"text-align: left;\">Float64</th><th title = \"Float64\" style = \"text-align: left;\">Float64</th><th title = \"Float64\" style = \"text-align: left;\">Float64</th><th title = \"Float64\" style = \"text-align: left;\">Float64</th><th title = \"Float64\" style = \"text-align: left;\">Float64</th><th title = \"Float64\" style = \"text-align: left;\">Float64</th><th title = \"Float64\" style = \"text-align: left;\">Float64</th><th title = \"Float64\" style = \"text-align: left;\">Float64</th><th title = \"Float64\" style = \"text-align: left;\">Float64</th><th title = \"Float64\" style = \"text-align: left;\">Float64</th><th title = \"Float64\" style = \"text-align: left;\">Float64</th><th title = \"Float64\" style = \"text-align: left;\">Float64</th><th title = \"Float64\" style = \"text-align: left;\">Float64</th><th title = \"Float64\" style = \"text-align: left;\">Float64</th><th title = \"Float64\" style = \"text-align: left;\">Float64</th><th title = \"Float64\" style = \"text-align: left;\">Float64</th><th title = \"Float64\" style = \"text-align: left;\">Float64</th><th title = \"Float64\" style = \"text-align: left;\">Float64</th><th title = \"Float64\" style = \"text-align: left;\">Float64</th><th title = \"Float64\" style = \"text-align: left;\">Float64</th><th title = \"Float64\" style = \"text-align: left;\">Float64</th><th title = \"Float64\" style = \"text-align: left;\">Float64</th><th title = \"Float64\" style = \"text-align: left;\">Float64</th><th title = \"Float64\" style = \"text-align: left;\">Float64</th><th title = \"Float64\" style = \"text-align: left;\">Float64</th><th title = \"Float64\" style = \"text-align: left;\">Float64</th><th title = \"Float64\" style = \"text-align: left;\">Float64</th><th title = \"Float64\" style = \"text-align: left;\">Float64</th><th title = \"Float64\" style = \"text-align: left;\">Float64</th><th title = \"Float64\" style = \"text-align: left;\">Float64</th><th title = \"Float64\" style = \"text-align: left;\">Float64</th><th title = \"Float64\" style = \"text-align: left;\">Float64</th><th title = \"Float64\" style = \"text-align: left;\">Float64</th><th title = \"Float64\" style = \"text-align: left;\">Float64</th><th title = \"Float64\" style = \"text-align: left;\">Float64</th><th title = \"Float64\" style = \"text-align: left;\">Float64</th><th title = \"Float64\" style = \"text-align: left;\">Float64</th><th title = \"Float64\" style = \"text-align: left;\">Float64</th><th title = \"Float64\" style = \"text-align: left;\">Float64</th><th title = \"Float64\" style = \"text-align: left;\">Float64</th><th title = \"Float64\" style = \"text-align: left;\">Float64</th><th title = \"Float64\" style = \"text-align: left;\">Float64</th><th title = \"Float64\" style = \"text-align: left;\">Float64</th><th title = \"Float64\" style = \"text-align: left;\">Float64</th><th title = \"Float64\" style = \"text-align: left;\">Float64</th><th title = \"Float64\" style = \"text-align: left;\">Float64</th><th title = \"Float64\" style = \"text-align: left;\">Float64</th><th title = \"Float64\" style = \"text-align: left;\">Float64</th><th title = \"Float64\" style = \"text-align: left;\">Float64</th><th title = \"Float64\" style = \"text-align: left;\">Float64</th><th title = \"Float64\" style = \"text-align: left;\">Float64</th><th title = \"Float64\" style = \"text-align: left;\">Float64</th><th title = \"Float64\" style = \"text-align: left;\">Float64</th><th title = \"Float64\" style = \"text-align: left;\">Float64</th><th title = \"Float64\" style = \"text-align: left;\">Float64</th><th title = \"Float64\" style = \"text-align: left;\">Float64</th><th title = \"Float64\" style = \"text-align: left;\">Float64</th><th title = \"Float64\" style = \"text-align: left;\">Float64</th><th title = \"Float64\" style = \"text-align: left;\">Float64</th><th title = \"Float64\" style = \"text-align: left;\">Float64</th><th title = \"Float64\" style = \"text-align: left;\">Float64</th><th title = \"Float64\" style = \"text-align: left;\">Float64</th><th title = \"Float64\" style = \"text-align: left;\">Float64</th><th title = \"Float64\" style = \"text-align: left;\">Float64</th><th title = \"Float64\" style = \"text-align: left;\">Float64</th><th title = \"Float64\" style = \"text-align: left;\">Float64</th><th title = \"Float64\" style = \"text-align: left;\">Float64</th><th title = \"Float64\" style = \"text-align: left;\">Float64</th><th title = \"Float64\" style = \"text-align: left;\">Float64</th><th title = \"Float64\" style = \"text-align: left;\">Float64</th><th title = \"Float64\" style = \"text-align: left;\">Float64</th><th title = \"Float64\" style = \"text-align: left;\">Float64</th><th title = \"Float64\" style = \"text-align: left;\">Float64</th><th title = \"Float64\" style = \"text-align: left;\">Float64</th><th title = \"Float64\" style = \"text-align: right;\">&ctdot;</th></tr></thead><tbody><tr><td class = \"rowLabel\" style = \"font-weight: bold; text-align: right;\">1</td><td style = \"text-align: right;\">0.079106</td><td style = \"text-align: right;\">0.079106</td><td style = \"text-align: right;\">-0.903497</td><td style = \"text-align: right;\">1.11613</td><td style = \"text-align: right;\">1.6382</td><td style = \"text-align: right;\">1.00345</td><td style = \"text-align: right;\">0.028774</td><td style = \"text-align: right;\">0.03005</td><td style = \"text-align: right;\">-0.120485</td><td style = \"text-align: right;\">-0.120485</td><td style = \"text-align: right;\">0.667496</td><td style = \"text-align: right;\">-0.312815</td><td style = \"text-align: right;\">-0.032064</td><td style = \"text-align: right;\">0.462654</td><td style = \"text-align: right;\">0.462654</td><td style = \"text-align: right;\">0.50726</td><td style = \"text-align: right;\">0.381774</td><td style = \"text-align: right;\">-0.173109</td><td style = \"text-align: right;\">0.075566</td><td style = \"text-align: right;\">0.182602</td><td style = \"text-align: right;\">0.241339</td><td style = \"text-align: right;\">0.128828</td><td style = \"text-align: right;\">-0.005551</td><td style = \"text-align: right;\">-0.234381</td><td style = \"text-align: right;\">-0.060061</td><td style = \"text-align: right;\">0.134305</td><td style = \"text-align: right;\">-0.119217</td><td style = \"text-align: right;\">-0.118415</td><td style = \"text-align: right;\">-0.034857</td><td style = \"text-align: right;\">-0.152736</td><td style = \"text-align: right;\">-0.30275</td><td style = \"text-align: right;\">-0.258284</td><td style = \"text-align: right;\">-0.153046</td><td style = \"text-align: right;\">-0.183976</td><td style = \"text-align: right;\">-0.160971</td><td style = \"text-align: right;\">-0.241554</td><td style = \"text-align: right;\">-0.12605</td><td style = \"text-align: right;\">-0.047558</td><td style = \"text-align: right;\">-0.180656</td><td style = \"text-align: right;\">-0.223321</td><td style = \"text-align: right;\">-0.269544</td><td style = \"text-align: right;\">-0.132218</td><td style = \"text-align: right;\">-0.247598</td><td style = \"text-align: right;\">-0.167151</td><td style = \"text-align: right;\">-0.226787</td><td style = \"text-align: right;\">-0.226787</td><td style = \"text-align: right;\">-0.221194</td><td style = \"text-align: right;\">-0.124525</td><td style = \"text-align: right;\">-0.215384</td><td style = \"text-align: right;\">-0.292342</td><td style = \"text-align: right;\">-0.2096</td><td style = \"text-align: right;\">-0.350283</td><td style = \"text-align: right;\">-0.212305</td><td style = \"text-align: right;\">-0.101916</td><td style = \"text-align: right;\">-0.125474</td><td style = \"text-align: right;\">-0.171308</td><td style = \"text-align: right;\">-0.392737</td><td style = \"text-align: right;\">-0.333702</td><td style = \"text-align: right;\">-0.049047</td><td style = \"text-align: right;\">-0.161384</td><td style = \"text-align: right;\">-0.332913</td><td style = \"text-align: right;\">-0.323573</td><td style = \"text-align: right;\">-0.260746</td><td style = \"text-align: right;\">-0.386039</td><td style = \"text-align: right;\">0.073956</td><td style = \"text-align: right;\">0.013228</td><td style = \"text-align: right;\">-0.134901</td><td style = \"text-align: right;\">-0.114447</td><td style = \"text-align: right;\">-0.151736</td><td style = \"text-align: right;\">-0.265312</td><td style = \"text-align: right;\">-0.265312</td><td style = \"text-align: right;\">-0.192506</td><td style = \"text-align: right;\">0.006082</td><td style = \"text-align: right;\">0.006082</td><td style = \"text-align: right;\">-0.056635</td><td style = \"text-align: right;\">-0.209398</td><td style = \"text-align: right;\">-0.160216</td><td style = \"text-align: right;\">-0.135851</td><td style = \"text-align: right;\">-0.27988</td><td style = \"text-align: right;\">-0.181434</td><td style = \"text-align: right;\">-0.129874</td><td style = \"text-align: right;\">-0.041725</td><td style = \"text-align: right;\">-0.176548</td><td style = \"text-align: right;\">-0.257786</td><td style = \"text-align: right;\">-0.257786</td><td style = \"text-align: right;\">-0.239707</td><td style = \"text-align: right;\">-0.216372</td><td style = \"text-align: right;\">-0.08794</td><td style = \"text-align: right;\">-0.227259</td><td style = \"text-align: right;\">-0.143374</td><td style = \"text-align: right;\">-0.308963</td><td style = \"text-align: right;\">-0.269968</td><td style = \"text-align: right;\">-0.191018</td><td style = \"text-align: right;\">-0.24424</td><td style = \"text-align: right;\">-0.2092</td><td style = \"text-align: right;\">-0.167918</td><td style = \"text-align: right;\">-0.22767</td><td style = \"text-align: right;\">-0.193271</td><td style = \"text-align: right;\">-0.193271</td><td style = \"text-align: right;\">-0.20515</td><td style = \"text-align: right;\">&ctdot;</td></tr></tbody></table></div>"
      ],
      "text/latex": [
       "\\begin{tabular}{r|cccccccc}\n",
       "\t& channel\\_0\\_0 & channel\\_0\\_1 & channel\\_0\\_2 & channel\\_0\\_3 & channel\\_0\\_4 & channel\\_0\\_5 & channel\\_0\\_6 & \\\\\n",
       "\t\\hline\n",
       "\t& Float64 & Float64 & Float64 & Float64 & Float64 & Float64 & Float64 & \\\\\n",
       "\t\\hline\n",
       "\t1 & 0.079106 & 0.079106 & -0.903497 & 1.11613 & 1.6382 & 1.00345 & 0.028774 & $\\dots$ \\\\\n",
       "\\end{tabular}\n"
      ],
      "text/plain": [
       "\u001b[1mDataFrameRow\u001b[0m\n",
       "\u001b[1m Row \u001b[0m│\u001b[1m channel_0_0 \u001b[0m\u001b[1m channel_0_1 \u001b[0m\u001b[1m channel_0_2 \u001b[0m\u001b[1m channel_0_3 \u001b[0m\u001b[1m channel_0_4 \u001b[0m\u001b[1m channe\u001b[0m ⋯\n",
       "     │\u001b[90m Float64     \u001b[0m\u001b[90m Float64     \u001b[0m\u001b[90m Float64     \u001b[0m\u001b[90m Float64     \u001b[0m\u001b[90m Float64     \u001b[0m\u001b[90m Float6\u001b[0m ⋯\n",
       "─────┼──────────────────────────────────────────────────────────────────────────\n",
       "   1 │    0.079106     0.079106    -0.903497      1.11613       1.6382      1. ⋯\n",
       "\u001b[36m                                                              96 columns omitted\u001b[0m"
      ]
     },
     "execution_count": 3,
     "metadata": {},
     "output_type": "execute_result"
    }
   ],
   "source": [
    "acc_x_train[1,:]"
   ]
  },
  {
   "cell_type": "markdown",
   "id": "c6c10d97",
   "metadata": {},
   "source": [
    "Stratyfikacja - wylosowanie osobno z każdej klasy, żeby uniknąć przypadkowego podziału danych na zbiór testowy i treningowy, w których będzie brakować jakiś klas."
   ]
  },
  {
   "cell_type": "code",
   "execution_count": 4,
   "id": "f3aea412",
   "metadata": {},
   "outputs": [],
   "source": [
    "X_train = cat(Array(acc_x_train[:,1:100]), Array(acc_y_train[:,1:100]), Array(acc_z_train[:,1:100]), Array(gyr_x_train[:,1:100]), Array(gyr_y_train[:,1:100]), Array(gyr_z_train[:,1:100]) ; dims=3);"
   ]
  },
  {
   "cell_type": "code",
   "execution_count": 5,
   "id": "499a9c6e",
   "metadata": {},
   "outputs": [],
   "source": [
    "X_train = permutedims(X_train,(1,3,2));"
   ]
  },
  {
   "cell_type": "code",
   "execution_count": 55,
   "id": "eb2d8641",
   "metadata": {},
   "outputs": [
    {
     "data": {
      "text/plain": [
       "Rocket(10000, true, nothing, nothing, 0)"
      ]
     },
     "execution_count": 55,
     "metadata": {},
     "output_type": "execute_result"
    }
   ],
   "source": [
    "include(\"rocket.jl\")\n",
    "rocket = Rocket()"
   ]
  },
  {
   "cell_type": "code",
   "execution_count": 56,
   "id": "12762f42",
   "metadata": {},
   "outputs": [
    {
     "data": {
      "text/plain": [
       "([-1.8792670732221377, 0.8319405677197196, -0.815196332100473, 2.2105703870929787, 0.0027477813317592415, 1.7228150751936062, 0.3305246997698865, -1.5064049407269189, -0.8977301650584205, 1.79208591033257  …  0.6122100724619637, -0.3987231801019011, -0.6963918116296038, -0.024193181727034302, 0.013058126635210651, 0.678760377671397, -0.5544703422433619, 0.09061347890123574, -0.5087166318367677, 0.3049481725993206], [9, 9, 7, 11, 9, 7, 9, 9, 11, 9  …  9, 9, 11, 9, 7, 9, 11, 11, 11, 7], [0.3429509045617465, -0.20207512409505712, -0.36071186002664435, 0.3950923076953099, -0.5767205480219859, -0.014471862621373566, 0.5700177876831081, -0.6193645152867464, -0.8726157863403943, -0.18251398627416715  …  -0.20111655386270644, 0.23849641559559331, 0.8299258348123235, 0.06352542274043316, -0.10883504710165592, -0.7763249800255261, 0.7179836982282659, 0.5946222507003633, 0.7415080283261233, 0.2275033824484054], [2, 10, 7, 6, 2, 1, 1, 1, 1, 1  …  8, 2, 7, 4, 1, 1, 2, 1, 4, 11], [0, 40, 0, 30, 0, 0, 0, 0, 5, 0  …  32, 0, 35, 0, 0, 4, 0, 5, 20, 0], [5, 4, 4, 4, 3, 1, 1, 1, 2, 5  …  5, 2, 4, 3, 5, 2, 1, 4, 3, 1], [4, 3, 2, 5, 6, 1, 5, 3, 2, 2  …  4, 3, 5, 4, 3, 1, 6, 1, 5, 4])"
      ]
     },
     "execution_count": 56,
     "metadata": {},
     "output_type": "execute_result"
    }
   ],
   "source": [
    "fit!(rocket, X_train)"
   ]
  },
  {
   "cell_type": "code",
   "execution_count": 57,
   "id": "81d9021f",
   "metadata": {},
   "outputs": [
    {
     "data": {
      "text/plain": [
       "40×20000 Matrix{Float64}:\n",
       " 4.96429  18.7906  3.84   7.69732  …  6.97  18.8763   4.88235  1.50062\n",
       " 3.83333  23.9956  4.13   6.38193     9.1   16.7207   7.0      0.599078\n",
       " 4.63095  22.8811  3.95   7.6433      6.67  10.775    5.38235  2.07866\n",
       " 4.70238  17.6811  3.4    9.54401     6.7   10.9545   5.05882  1.78728\n",
       " 4.7619   26.756   3.79  15.6422      6.7   12.686    5.67647  2.35305\n",
       " 4.41667  40.2381  3.4    7.74647  …  7.29  13.2721   6.17647  0.874105\n",
       " 4.88095  17.9486  3.39   9.04052     7.62  12.23     5.61765  1.40163\n",
       " 4.72619  16.746   3.77   8.44328     6.81  12.3225   5.41176  2.00513\n",
       " 5.07143  19.416   3.93   9.59657     6.62  13.7157   5.67647  2.83282\n",
       " 4.22619  17.2579  3.86   8.42545     8.35  13.2583   5.94118  1.41185\n",
       " 4.67857  19.4982  3.95  14.0896   …  7.39   8.75386  4.88235  2.21819\n",
       " 4.60714  17.9628  3.68  11.1873      7.7    7.69342  4.85294  2.09166\n",
       " 4.71429  19.8713  4.01  13.954       7.18   8.28128  5.08824  2.44624\n",
       " ⋮                                 ⋱                           \n",
       " 4.91667  19.7327  3.54  14.2831      6.48  14.7222   5.23529  2.03105\n",
       " 5.14286  23.5417  4.03  20.0168      7.02  13.0877   5.32353  2.06261\n",
       " 5.5      13.5217  3.91  10.3482   …  6.97  16.3117   5.23529  5.08424\n",
       " 5.05952  21.9082  3.94  11.2876      6.79  15.4907   4.64706  2.24129\n",
       " 4.86905  16.568   3.99  13.7242      6.75  17.5955   5.44118  2.88992\n",
       " 5.03571  19.3815  4.19  11.6492      6.63  11.3628   4.82353  2.10897\n",
       " 5.34524  17.9392  4.05  11.4882      6.92  15.9394   4.76471  3.54534\n",
       " 5.13095  26.3048  3.65  11.7349   …  6.83  15.0718   4.94118  2.09706\n",
       " 4.90476  16.6687  3.46  12.4185      7.43  15.5848   5.32353  3.43022\n",
       " 4.86905  21.5525  3.66  10.3655      7.44  15.0388   4.61765  1.49784\n",
       " 5.42857  24.1476  4.05   9.68861     7.56  15.3398   4.73529  2.31715\n",
       " 5.2619   18.7058  4.23   9.47273     6.98  10.8362   4.52941  3.77892"
      ]
     },
     "execution_count": 57,
     "metadata": {},
     "output_type": "execute_result"
    }
   ],
   "source": [
    "transform!(rocket, X_train)"
   ]
  },
  {
   "cell_type": "code",
   "execution_count": null,
   "id": "a1a1dd96",
   "metadata": {},
   "outputs": [],
   "source": []
  }
 ],
 "metadata": {
  "kernelspec": {
   "display_name": "Julia 1.7.3",
   "language": "julia",
   "name": "julia-1.7"
  },
  "language_info": {
   "file_extension": ".jl",
   "mimetype": "application/julia",
   "name": "julia",
   "version": "1.7.3"
  }
 },
 "nbformat": 4,
 "nbformat_minor": 5
}
