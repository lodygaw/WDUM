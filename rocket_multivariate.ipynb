{
 "cells": [
  {
   "cell_type": "code",
   "execution_count": 11,
   "id": "25b1200e",
   "metadata": {},
   "outputs": [
    {
     "name": "stderr",
     "output_type": "stream",
     "text": [
      "\u001b[32m\u001b[1m  Activating\u001b[22m\u001b[39m project at `~/Code/WdUM`\n",
      "\u001b[32m\u001b[1m  No Changes\u001b[22m\u001b[39m to `~/Code/WdUM/Project.toml`\n",
      "\u001b[32m\u001b[1m  No Changes\u001b[22m\u001b[39m to `~/Code/WdUM/Manifest.toml`\n"
     ]
    }
   ],
   "source": [
    "import Pkg\n",
    "Pkg.activate(\".\")\n",
    "# Pkg.add(\"StaticArrays\")\n",
    "# Pkg.add(\"Distributions\")\n",
    "# Pkg.add(\"Statistics\")\n",
    "# Pkg.add(\"StatsBase\")\n",
    "# Pkg.add(\"ARFFFiles\")\n",
    "# Pkg.add(\"DataFrames\")\n",
    "Pkg.resolve()"
   ]
  },
  {
   "cell_type": "code",
   "execution_count": 23,
   "id": "64c2dcfb",
   "metadata": {},
   "outputs": [],
   "source": [
    "using ARFFFiles, DataFrames\n",
    "acc_x_train = ARFFFiles.load(DataFrame, \"./datasets/BasicMotions/BasicMotionsDimension1_TRAIN.arff\");\n",
    "acc_y_train = ARFFFiles.load(DataFrame, \"./datasets/BasicMotions/BasicMotionsDimension2_TRAIN.arff\");\n",
    "acc_z_train = ARFFFiles.load(DataFrame, \"./datasets/BasicMotions/BasicMotionsDimension3_TRAIN.arff\");\n",
    "gyr_x_train = ARFFFiles.load(DataFrame, \"./datasets/BasicMotions/BasicMotionsDimension4_TRAIN.arff\");\n",
    "gyr_y_train = ARFFFiles.load(DataFrame, \"./datasets/BasicMotions/BasicMotionsDimension5_TRAIN.arff\");\n",
    "gyr_z_train = ARFFFiles.load(DataFrame, \"./datasets/BasicMotions/BasicMotionsDimension6_TRAIN.arff\");\n",
    "acc_x_test = ARFFFiles.load(DataFrame, \"./datasets/BasicMotions/BasicMotionsDimension1_TEST.arff\");\n",
    "acc_y_test = ARFFFiles.load(DataFrame, \"./datasets/BasicMotions/BasicMotionsDimension2_TEST.arff\");\n",
    "acc_z_test = ARFFFiles.load(DataFrame, \"./datasets/BasicMotions/BasicMotionsDimension3_TEST.arff\");\n",
    "gyr_x_test = ARFFFiles.load(DataFrame, \"./datasets/BasicMotions/BasicMotionsDimension4_TEST.arff\");\n",
    "gyr_y_test = ARFFFiles.load(DataFrame, \"./datasets/BasicMotions/BasicMotionsDimension5_TEST.arff\");\n",
    "gyr_z_test = ARFFFiles.load(DataFrame, \"./datasets/BasicMotions/BasicMotionsDimension6_TEST.arff\");"
   ]
  },
  {
   "cell_type": "code",
   "execution_count": 27,
   "id": "6bed48c6",
   "metadata": {},
   "outputs": [
    {
     "data": {
      "text/html": [
       "<div><div style = \"float: left;\"><span>DataFrameRow (101 columns)</span></div><div style = \"float: right;\"><span style = \"font-style: italic;\">1 column omitted</span></div><div style = \"clear: both;\"></div></div><div class = \"data-frame\" style = \"overflow-x: scroll;\"><table class = \"data-frame\" style = \"margin-bottom: 6px;\"><thead><tr class = \"header\"><th class = \"rowLabel\" style = \"font-weight: bold; text-align: right;\">Row</th><th style = \"text-align: left;\">channel_0_0</th><th style = \"text-align: left;\">channel_0_1</th><th style = \"text-align: left;\">channel_0_2</th><th style = \"text-align: left;\">channel_0_3</th><th style = \"text-align: left;\">channel_0_4</th><th style = \"text-align: left;\">channel_0_5</th><th style = \"text-align: left;\">channel_0_6</th><th style = \"text-align: left;\">channel_0_7</th><th style = \"text-align: left;\">channel_0_8</th><th style = \"text-align: left;\">channel_0_9</th><th style = \"text-align: left;\">channel_0_10</th><th style = \"text-align: left;\">channel_0_11</th><th style = \"text-align: left;\">channel_0_12</th><th style = \"text-align: left;\">channel_0_13</th><th style = \"text-align: left;\">channel_0_14</th><th style = \"text-align: left;\">channel_0_15</th><th style = \"text-align: left;\">channel_0_16</th><th style = \"text-align: left;\">channel_0_17</th><th style = \"text-align: left;\">channel_0_18</th><th style = \"text-align: left;\">channel_0_19</th><th style = \"text-align: left;\">channel_0_20</th><th style = \"text-align: left;\">channel_0_21</th><th style = \"text-align: left;\">channel_0_22</th><th style = \"text-align: left;\">channel_0_23</th><th style = \"text-align: left;\">channel_0_24</th><th style = \"text-align: left;\">channel_0_25</th><th style = \"text-align: left;\">channel_0_26</th><th style = \"text-align: left;\">channel_0_27</th><th style = \"text-align: left;\">channel_0_28</th><th style = \"text-align: left;\">channel_0_29</th><th style = \"text-align: left;\">channel_0_30</th><th style = \"text-align: left;\">channel_0_31</th><th style = \"text-align: left;\">channel_0_32</th><th style = \"text-align: left;\">channel_0_33</th><th style = \"text-align: left;\">channel_0_34</th><th style = \"text-align: left;\">channel_0_35</th><th style = \"text-align: left;\">channel_0_36</th><th style = \"text-align: left;\">channel_0_37</th><th style = \"text-align: left;\">channel_0_38</th><th style = \"text-align: left;\">channel_0_39</th><th style = \"text-align: left;\">channel_0_40</th><th style = \"text-align: left;\">channel_0_41</th><th style = \"text-align: left;\">channel_0_42</th><th style = \"text-align: left;\">channel_0_43</th><th style = \"text-align: left;\">channel_0_44</th><th style = \"text-align: left;\">channel_0_45</th><th style = \"text-align: left;\">channel_0_46</th><th style = \"text-align: left;\">channel_0_47</th><th style = \"text-align: left;\">channel_0_48</th><th style = \"text-align: left;\">channel_0_49</th><th style = \"text-align: left;\">channel_0_50</th><th style = \"text-align: left;\">channel_0_51</th><th style = \"text-align: left;\">channel_0_52</th><th style = \"text-align: left;\">channel_0_53</th><th style = \"text-align: left;\">channel_0_54</th><th style = \"text-align: left;\">channel_0_55</th><th style = \"text-align: left;\">channel_0_56</th><th style = \"text-align: left;\">channel_0_57</th><th style = \"text-align: left;\">channel_0_58</th><th style = \"text-align: left;\">channel_0_59</th><th style = \"text-align: left;\">channel_0_60</th><th style = \"text-align: left;\">channel_0_61</th><th style = \"text-align: left;\">channel_0_62</th><th style = \"text-align: left;\">channel_0_63</th><th style = \"text-align: left;\">channel_0_64</th><th style = \"text-align: left;\">channel_0_65</th><th style = \"text-align: left;\">channel_0_66</th><th style = \"text-align: left;\">channel_0_67</th><th style = \"text-align: left;\">channel_0_68</th><th style = \"text-align: left;\">channel_0_69</th><th style = \"text-align: left;\">channel_0_70</th><th style = \"text-align: left;\">channel_0_71</th><th style = \"text-align: left;\">channel_0_72</th><th style = \"text-align: left;\">channel_0_73</th><th style = \"text-align: left;\">channel_0_74</th><th style = \"text-align: left;\">channel_0_75</th><th style = \"text-align: left;\">channel_0_76</th><th style = \"text-align: left;\">channel_0_77</th><th style = \"text-align: left;\">channel_0_78</th><th style = \"text-align: left;\">channel_0_79</th><th style = \"text-align: left;\">channel_0_80</th><th style = \"text-align: left;\">channel_0_81</th><th style = \"text-align: left;\">channel_0_82</th><th style = \"text-align: left;\">channel_0_83</th><th style = \"text-align: left;\">channel_0_84</th><th style = \"text-align: left;\">channel_0_85</th><th style = \"text-align: left;\">channel_0_86</th><th style = \"text-align: left;\">channel_0_87</th><th style = \"text-align: left;\">channel_0_88</th><th style = \"text-align: left;\">channel_0_89</th><th style = \"text-align: left;\">channel_0_90</th><th style = \"text-align: left;\">channel_0_91</th><th style = \"text-align: left;\">channel_0_92</th><th style = \"text-align: left;\">channel_0_93</th><th style = \"text-align: left;\">channel_0_94</th><th style = \"text-align: left;\">channel_0_95</th><th style = \"text-align: left;\">channel_0_96</th><th style = \"text-align: left;\">channel_0_97</th><th style = \"text-align: left;\">channel_0_98</th><th style = \"text-align: left;\">channel_0_99</th><th style = \"text-align: right;\">&ctdot;</th></tr><tr class = \"subheader headerLastRow\"><th class = \"rowLabel\" style = \"font-weight: bold; text-align: right;\"></th><th title = \"Float64\" style = \"text-align: left;\">Float64</th><th title = \"Float64\" style = \"text-align: left;\">Float64</th><th title = \"Float64\" style = \"text-align: left;\">Float64</th><th title = \"Float64\" style = \"text-align: left;\">Float64</th><th title = \"Float64\" style = \"text-align: left;\">Float64</th><th title = \"Float64\" style = \"text-align: left;\">Float64</th><th title = \"Float64\" style = \"text-align: left;\">Float64</th><th title = \"Float64\" style = \"text-align: left;\">Float64</th><th title = \"Float64\" style = \"text-align: left;\">Float64</th><th title = \"Float64\" style = \"text-align: left;\">Float64</th><th title = \"Float64\" style = \"text-align: left;\">Float64</th><th title = \"Float64\" style = \"text-align: left;\">Float64</th><th title = \"Float64\" style = \"text-align: left;\">Float64</th><th title = \"Float64\" style = \"text-align: left;\">Float64</th><th title = \"Float64\" style = \"text-align: left;\">Float64</th><th title = \"Float64\" style = \"text-align: left;\">Float64</th><th title = \"Float64\" style = \"text-align: left;\">Float64</th><th title = \"Float64\" style = \"text-align: left;\">Float64</th><th title = \"Float64\" style = \"text-align: left;\">Float64</th><th title = \"Float64\" style = \"text-align: left;\">Float64</th><th title = \"Float64\" style = \"text-align: left;\">Float64</th><th title = \"Float64\" style = \"text-align: left;\">Float64</th><th title = \"Float64\" style = \"text-align: left;\">Float64</th><th title = \"Float64\" style = \"text-align: left;\">Float64</th><th title = \"Float64\" style = \"text-align: left;\">Float64</th><th title = \"Float64\" style = \"text-align: left;\">Float64</th><th title = \"Float64\" style = \"text-align: left;\">Float64</th><th title = \"Float64\" style = \"text-align: left;\">Float64</th><th title = \"Float64\" style = \"text-align: left;\">Float64</th><th title = \"Float64\" style = \"text-align: left;\">Float64</th><th title = \"Float64\" style = \"text-align: left;\">Float64</th><th title = \"Float64\" style = \"text-align: left;\">Float64</th><th title = \"Float64\" style = \"text-align: left;\">Float64</th><th title = \"Float64\" style = \"text-align: left;\">Float64</th><th title = \"Float64\" style = \"text-align: left;\">Float64</th><th title = \"Float64\" style = \"text-align: left;\">Float64</th><th title = \"Float64\" style = \"text-align: left;\">Float64</th><th title = \"Float64\" style = \"text-align: left;\">Float64</th><th title = \"Float64\" style = \"text-align: left;\">Float64</th><th title = \"Float64\" style = \"text-align: left;\">Float64</th><th title = \"Float64\" style = \"text-align: left;\">Float64</th><th title = \"Float64\" style = \"text-align: left;\">Float64</th><th title = \"Float64\" style = \"text-align: left;\">Float64</th><th title = \"Float64\" style = \"text-align: left;\">Float64</th><th title = \"Float64\" style = \"text-align: left;\">Float64</th><th title = \"Float64\" style = \"text-align: left;\">Float64</th><th title = \"Float64\" style = \"text-align: left;\">Float64</th><th title = \"Float64\" style = \"text-align: left;\">Float64</th><th title = \"Float64\" style = \"text-align: left;\">Float64</th><th title = \"Float64\" style = \"text-align: left;\">Float64</th><th title = \"Float64\" style = \"text-align: left;\">Float64</th><th title = \"Float64\" style = \"text-align: left;\">Float64</th><th title = \"Float64\" style = \"text-align: left;\">Float64</th><th title = \"Float64\" style = \"text-align: left;\">Float64</th><th title = \"Float64\" style = \"text-align: left;\">Float64</th><th title = \"Float64\" style = \"text-align: left;\">Float64</th><th title = \"Float64\" style = \"text-align: left;\">Float64</th><th title = \"Float64\" style = \"text-align: left;\">Float64</th><th title = \"Float64\" style = \"text-align: left;\">Float64</th><th title = \"Float64\" style = \"text-align: left;\">Float64</th><th title = \"Float64\" style = \"text-align: left;\">Float64</th><th title = \"Float64\" style = \"text-align: left;\">Float64</th><th title = \"Float64\" style = \"text-align: left;\">Float64</th><th title = \"Float64\" style = \"text-align: left;\">Float64</th><th title = \"Float64\" style = \"text-align: left;\">Float64</th><th title = \"Float64\" style = \"text-align: left;\">Float64</th><th title = \"Float64\" style = \"text-align: left;\">Float64</th><th title = \"Float64\" style = \"text-align: left;\">Float64</th><th title = \"Float64\" style = \"text-align: left;\">Float64</th><th title = \"Float64\" style = \"text-align: left;\">Float64</th><th title = \"Float64\" style = \"text-align: left;\">Float64</th><th title = \"Float64\" style = \"text-align: left;\">Float64</th><th title = \"Float64\" style = \"text-align: left;\">Float64</th><th title = \"Float64\" style = \"text-align: left;\">Float64</th><th title = \"Float64\" style = \"text-align: left;\">Float64</th><th title = \"Float64\" style = \"text-align: left;\">Float64</th><th title = \"Float64\" style = \"text-align: left;\">Float64</th><th title = \"Float64\" style = \"text-align: left;\">Float64</th><th title = \"Float64\" style = \"text-align: left;\">Float64</th><th title = \"Float64\" style = \"text-align: left;\">Float64</th><th title = \"Float64\" style = \"text-align: left;\">Float64</th><th title = \"Float64\" style = \"text-align: left;\">Float64</th><th title = \"Float64\" style = \"text-align: left;\">Float64</th><th title = \"Float64\" style = \"text-align: left;\">Float64</th><th title = \"Float64\" style = \"text-align: left;\">Float64</th><th title = \"Float64\" style = \"text-align: left;\">Float64</th><th title = \"Float64\" style = \"text-align: left;\">Float64</th><th title = \"Float64\" style = \"text-align: left;\">Float64</th><th title = \"Float64\" style = \"text-align: left;\">Float64</th><th title = \"Float64\" style = \"text-align: left;\">Float64</th><th title = \"Float64\" style = \"text-align: left;\">Float64</th><th title = \"Float64\" style = \"text-align: left;\">Float64</th><th title = \"Float64\" style = \"text-align: left;\">Float64</th><th title = \"Float64\" style = \"text-align: left;\">Float64</th><th title = \"Float64\" style = \"text-align: left;\">Float64</th><th title = \"Float64\" style = \"text-align: left;\">Float64</th><th title = \"Float64\" style = \"text-align: left;\">Float64</th><th title = \"Float64\" style = \"text-align: left;\">Float64</th><th title = \"Float64\" style = \"text-align: left;\">Float64</th><th title = \"Float64\" style = \"text-align: left;\">Float64</th><th title = \"Float64\" style = \"text-align: right;\">&ctdot;</th></tr></thead><tbody><tr><td class = \"rowLabel\" style = \"font-weight: bold; text-align: right;\">1</td><td style = \"text-align: right;\">0.079106</td><td style = \"text-align: right;\">0.079106</td><td style = \"text-align: right;\">-0.903497</td><td style = \"text-align: right;\">1.11613</td><td style = \"text-align: right;\">1.6382</td><td style = \"text-align: right;\">1.00345</td><td style = \"text-align: right;\">0.028774</td><td style = \"text-align: right;\">0.03005</td><td style = \"text-align: right;\">-0.120485</td><td style = \"text-align: right;\">-0.120485</td><td style = \"text-align: right;\">0.667496</td><td style = \"text-align: right;\">-0.312815</td><td style = \"text-align: right;\">-0.032064</td><td style = \"text-align: right;\">0.462654</td><td style = \"text-align: right;\">0.462654</td><td style = \"text-align: right;\">0.50726</td><td style = \"text-align: right;\">0.381774</td><td style = \"text-align: right;\">-0.173109</td><td style = \"text-align: right;\">0.075566</td><td style = \"text-align: right;\">0.182602</td><td style = \"text-align: right;\">0.241339</td><td style = \"text-align: right;\">0.128828</td><td style = \"text-align: right;\">-0.005551</td><td style = \"text-align: right;\">-0.234381</td><td style = \"text-align: right;\">-0.060061</td><td style = \"text-align: right;\">0.134305</td><td style = \"text-align: right;\">-0.119217</td><td style = \"text-align: right;\">-0.118415</td><td style = \"text-align: right;\">-0.034857</td><td style = \"text-align: right;\">-0.152736</td><td style = \"text-align: right;\">-0.30275</td><td style = \"text-align: right;\">-0.258284</td><td style = \"text-align: right;\">-0.153046</td><td style = \"text-align: right;\">-0.183976</td><td style = \"text-align: right;\">-0.160971</td><td style = \"text-align: right;\">-0.241554</td><td style = \"text-align: right;\">-0.12605</td><td style = \"text-align: right;\">-0.047558</td><td style = \"text-align: right;\">-0.180656</td><td style = \"text-align: right;\">-0.223321</td><td style = \"text-align: right;\">-0.269544</td><td style = \"text-align: right;\">-0.132218</td><td style = \"text-align: right;\">-0.247598</td><td style = \"text-align: right;\">-0.167151</td><td style = \"text-align: right;\">-0.226787</td><td style = \"text-align: right;\">-0.226787</td><td style = \"text-align: right;\">-0.221194</td><td style = \"text-align: right;\">-0.124525</td><td style = \"text-align: right;\">-0.215384</td><td style = \"text-align: right;\">-0.292342</td><td style = \"text-align: right;\">-0.2096</td><td style = \"text-align: right;\">-0.350283</td><td style = \"text-align: right;\">-0.212305</td><td style = \"text-align: right;\">-0.101916</td><td style = \"text-align: right;\">-0.125474</td><td style = \"text-align: right;\">-0.171308</td><td style = \"text-align: right;\">-0.392737</td><td style = \"text-align: right;\">-0.333702</td><td style = \"text-align: right;\">-0.049047</td><td style = \"text-align: right;\">-0.161384</td><td style = \"text-align: right;\">-0.332913</td><td style = \"text-align: right;\">-0.323573</td><td style = \"text-align: right;\">-0.260746</td><td style = \"text-align: right;\">-0.386039</td><td style = \"text-align: right;\">0.073956</td><td style = \"text-align: right;\">0.013228</td><td style = \"text-align: right;\">-0.134901</td><td style = \"text-align: right;\">-0.114447</td><td style = \"text-align: right;\">-0.151736</td><td style = \"text-align: right;\">-0.265312</td><td style = \"text-align: right;\">-0.265312</td><td style = \"text-align: right;\">-0.192506</td><td style = \"text-align: right;\">0.006082</td><td style = \"text-align: right;\">0.006082</td><td style = \"text-align: right;\">-0.056635</td><td style = \"text-align: right;\">-0.209398</td><td style = \"text-align: right;\">-0.160216</td><td style = \"text-align: right;\">-0.135851</td><td style = \"text-align: right;\">-0.27988</td><td style = \"text-align: right;\">-0.181434</td><td style = \"text-align: right;\">-0.129874</td><td style = \"text-align: right;\">-0.041725</td><td style = \"text-align: right;\">-0.176548</td><td style = \"text-align: right;\">-0.257786</td><td style = \"text-align: right;\">-0.257786</td><td style = \"text-align: right;\">-0.239707</td><td style = \"text-align: right;\">-0.216372</td><td style = \"text-align: right;\">-0.08794</td><td style = \"text-align: right;\">-0.227259</td><td style = \"text-align: right;\">-0.143374</td><td style = \"text-align: right;\">-0.308963</td><td style = \"text-align: right;\">-0.269968</td><td style = \"text-align: right;\">-0.191018</td><td style = \"text-align: right;\">-0.24424</td><td style = \"text-align: right;\">-0.2092</td><td style = \"text-align: right;\">-0.167918</td><td style = \"text-align: right;\">-0.22767</td><td style = \"text-align: right;\">-0.193271</td><td style = \"text-align: right;\">-0.193271</td><td style = \"text-align: right;\">-0.20515</td><td style = \"text-align: right;\">&ctdot;</td></tr></tbody></table></div>"
      ],
      "text/latex": [
       "\\begin{tabular}{r|cccccccc}\n",
       "\t& channel\\_0\\_0 & channel\\_0\\_1 & channel\\_0\\_2 & channel\\_0\\_3 & channel\\_0\\_4 & channel\\_0\\_5 & channel\\_0\\_6 & \\\\\n",
       "\t\\hline\n",
       "\t& Float64 & Float64 & Float64 & Float64 & Float64 & Float64 & Float64 & \\\\\n",
       "\t\\hline\n",
       "\t1 & 0.079106 & 0.079106 & -0.903497 & 1.11613 & 1.6382 & 1.00345 & 0.028774 & $\\dots$ \\\\\n",
       "\\end{tabular}\n"
      ],
      "text/plain": [
       "\u001b[1mDataFrameRow\u001b[0m\n",
       "\u001b[1m Row \u001b[0m│\u001b[1m channel_0_0 \u001b[0m\u001b[1m channel_0_1 \u001b[0m\u001b[1m channel_0_2 \u001b[0m\u001b[1m channel_0_3 \u001b[0m\u001b[1m channel_0_4 \u001b[0m\u001b[1m channe\u001b[0m ⋯\n",
       "     │\u001b[90m Float64     \u001b[0m\u001b[90m Float64     \u001b[0m\u001b[90m Float64     \u001b[0m\u001b[90m Float64     \u001b[0m\u001b[90m Float64     \u001b[0m\u001b[90m Float6\u001b[0m ⋯\n",
       "─────┼──────────────────────────────────────────────────────────────────────────\n",
       "   1 │    0.079106     0.079106    -0.903497      1.11613       1.6382      1. ⋯\n",
       "\u001b[36m                                                              96 columns omitted\u001b[0m"
      ]
     },
     "execution_count": 27,
     "metadata": {},
     "output_type": "execute_result"
    }
   ],
   "source": [
    "acc_x_train[1,:]"
   ]
  },
  {
   "cell_type": "code",
   "execution_count": 28,
   "id": "ce32785d",
   "metadata": {},
   "outputs": [
    {
     "data": {
      "text/plain": [
       "40×101 Matrix{Any}:\n",
       "  0.079106   0.079106  -0.903497  …  -0.193271   -0.20515   \"Standing\"\n",
       "  0.377751   0.377751   2.95296      -0.333625   -0.333625  \"Standing\"\n",
       " -0.813905  -0.813905  -0.424628     -0.544255   -0.544255  \"Standing\"\n",
       "  0.289855   0.289855  -0.669185     -0.097311   -0.294934  \"Standing\"\n",
       " -0.123238  -0.123238  -0.249547     -0.161667   -0.344005  \"Standing\"\n",
       " -0.3573    -0.3573    -0.005055  …  -0.151137   -0.074966  \"Standing\"\n",
       "  1.23607    1.23607    0.118106     -0.347654   -0.284163  \"Standing\"\n",
       " -0.366403  -0.366403   0.12683      -0.162921   -0.208225  \"Standing\"\n",
       " -0.342233  -0.342233  -0.298542     -0.373028   -0.238221  \"Standing\"\n",
       " -0.407421  -0.407421   2.35516      -0.238427   -0.236918  \"Standing\"\n",
       "  0.300413   0.300413  -1.96499   …  -6.65438   -13.6771    \"Running\"\n",
       "  1.91654    1.91654   -4.50699      13.4195    -10.3279    \"Running\"\n",
       "  2.22195    2.22195   -7.70417       9.26659     7.24549   \"Running\"\n",
       "  ⋮                               ⋱                         ⋮\n",
       " -0.373788  -0.373788   0.07614       0.83496     0.312292  \"Walking\"\n",
       "  0.118553   0.118553  -0.545332      1.44194     1.44194   \"Walking\"\n",
       " -0.771623  -0.771623  -2.32382   …  17.4413      7.19193   \"Badminton\"\n",
       "  0.130669   0.130669   0.068821      3.88062    14.7698    \"Badminton\"\n",
       " -0.592124  -0.592124   0.330361     -0.427342   -0.427342  \"Badminton\"\n",
       " -0.166323  -0.166323  -0.2273        3.84588     3.84588   \"Badminton\"\n",
       "  0.052231   0.052231  -0.548047      1.14465    17.6495    \"Badminton\"\n",
       "  1.1023     1.1023     0.732385  …   2.84998    15.886     \"Badminton\"\n",
       "  1.68683    1.68683    0.882479      6.01356    16.0202    \"Badminton\"\n",
       "  1.14202    1.14202    0.840727      0.327786    0.327786  \"Badminton\"\n",
       " -0.39606   -0.39606   -0.268022     -0.005607   -0.005607  \"Badminton\"\n",
       "  1.21197    1.21197   -0.605948      4.12212     3.16927   \"Badminton\""
      ]
     },
     "execution_count": 28,
     "metadata": {},
     "output_type": "execute_result"
    }
   ],
   "source": [
    "Array(acc_x_train)"
   ]
  },
  {
   "cell_type": "markdown",
   "id": "b1ae1173",
   "metadata": {},
   "source": [
    "Stratyfikacja - wylosowanie osobno z każdej klasy, żeby uniknąć przypadkowego podziału danych na zbiór testowy i treningowy, w których będzie brakować jakiś klas."
   ]
  },
  {
   "cell_type": "code",
   "execution_count": 36,
   "id": "e5f6398b",
   "metadata": {},
   "outputs": [],
   "source": [
    "X_train = cat(Array(acc_x_train[:,1:100]), Array(acc_y_train[:,1:100]), Array(acc_z_train[:,1:100]), Array(gyr_x_train[:,1:100]), Array(gyr_y_train[:,1:100]), Array(gyr_z_train[:,1:100]) ; dims=3);"
   ]
  },
  {
   "cell_type": "code",
   "execution_count": 39,
   "id": "e928c297",
   "metadata": {},
   "outputs": [
    {
     "data": {
      "text/plain": [
       "40×6×100 Array{Float64, 3}:\n",
       "[:, :, 1] =\n",
       "  0.079106   0.394032   0.551444   0.351565   0.02397    0.633883\n",
       "  0.377751  -0.61085   -0.147376  -0.103872  -0.109198  -0.037287\n",
       " -0.813905   0.825666   0.032712   0.021307   0.122515   0.775041\n",
       "  0.289855   0.28413    0.21368   -0.314278   0.074574  -0.079901\n",
       " -0.123238   0.379341  -0.286006  -0.098545   0.058594  -0.074574\n",
       " -0.3573    -0.584885  -0.792751   0.074574   0.159802   0.02397\n",
       "  1.23607   -0.569532   1.53673    0.143822   0.061258   0.905547\n",
       " -0.366403   0.331289  -0.817845  -0.167792  -0.093218   0.157139\n",
       " -0.342233   0.327415   0.157229   0.394179   0.074574  -0.037287\n",
       " -0.407421   1.41337    0.092782  -0.066584   0.223723   0.135832\n",
       "  0.300413   0.72758    0.878731  -0.082565  -0.055931   0.668507\n",
       "  1.91654   -0.465923  -0.374403   0.125179  -0.034624  -0.22905\n",
       "  2.22195   -0.783638   0.142401   0.055931   0.071911   0.226387\n",
       "  ⋮                                                      ⋮\n",
       " -0.373788   0.248056   0.164594  -0.143822  -0.183773  -0.01598\n",
       "  0.118553   0.419456  -0.283447   0.135832  -0.079901   0.050604\n",
       " -0.771623   0.372042  -0.145753  -0.03196    0.167792  -0.362219\n",
       "  0.130669  -0.119724  -1.01992    0.684487   0.290308   0.67916\n",
       " -0.592124  -0.39274   -1.41133   -0.306288   0.354229  -0.143822\n",
       " -0.166323   0.768712  -0.344511   0.218397   0.135832   0.162466\n",
       "  0.052231  -0.730486  -0.518104  -0.159802  -0.045277  -0.029297\n",
       "  1.1023    -1.79077    0.001413   0.258347  -0.165129   0.516694\n",
       "  1.68683   -3.37505   -1.29504   -0.711121   0.013317  -0.207743\n",
       "  1.14202    1.01843    0.677593   0.175783  -0.460763   0.67916\n",
       " -0.39606   -0.686878  -0.350328  -0.157139  -0.058594   0.151812\n",
       "  1.21197   -0.247107   0.327837   0.058594  -0.527348  -0.042614\n",
       "\n",
       "[:, :, 2] =\n",
       "  0.079106   0.394032   0.551444   0.351565   0.02397    0.633883\n",
       "  0.377751  -0.61085   -0.147376  -0.103872  -0.109198  -0.037287\n",
       " -0.813905   0.825666   0.032712   0.021307   0.122515   0.775041\n",
       "  0.289855   0.28413    0.21368   -0.314278   0.074574  -0.079901\n",
       " -0.123238   0.379341  -0.286006  -0.098545   0.058594  -0.074574\n",
       " -0.3573    -0.584885  -0.792751   0.074574   0.159802   0.02397\n",
       "  1.23607   -0.569532   1.53673    0.143822   0.061258   0.905547\n",
       " -0.366403   0.331289  -0.817845  -0.167792  -0.093218   0.157139\n",
       " -0.342233   0.327415   0.157229   0.394179   0.074574  -0.037287\n",
       " -0.407421   1.41337    0.092782  -0.066584   0.223723   0.135832\n",
       "  0.300413   0.72758    0.878731  -0.082565  -0.055931   0.668507\n",
       "  1.91654   -0.465923  -0.374403   0.125179  -0.034624  -0.22905\n",
       "  2.22195   -0.783638   0.142401   0.055931   0.071911   0.226387\n",
       "  ⋮                                                      ⋮\n",
       " -0.373788   0.248056   0.164594  -0.143822  -0.183773  -0.01598\n",
       "  0.118553   0.419456  -0.283447   0.135832  -0.079901   0.050604\n",
       " -0.771623   0.372042  -0.145753  -0.03196    0.167792  -0.362219\n",
       "  0.130669  -0.119724  -1.01992    0.684487   0.290308   0.67916\n",
       " -0.592124  -0.39274   -1.41133   -0.306288   0.354229  -0.143822\n",
       " -0.166323   0.768712  -0.344511   0.218397   0.135832   0.162466\n",
       "  0.052231  -0.730486  -0.518104  -0.159802  -0.045277  -0.029297\n",
       "  1.1023    -1.79077    0.001413   0.258347  -0.165129   0.516694\n",
       "  1.68683   -3.37505   -1.29504   -0.711121   0.013317  -0.207743\n",
       "  1.14202    1.01843    0.677593   0.175783  -0.460763   0.67916\n",
       " -0.39606   -0.686878  -0.350328  -0.157139  -0.058594   0.151812\n",
       "  1.21197   -0.247107   0.327837   0.058594  -0.527348  -0.042614\n",
       "\n",
       "[:, :, 3] =\n",
       " -0.903497  -3.6664    -0.282844  -0.095881  -0.319605   0.972131\n",
       "  2.95296    0.970717  -5.96251   -7.59328   -0.697804  -2.86579\n",
       " -0.424628  -1.30503    0.82617   -0.372872  -0.045277   0.383526\n",
       " -0.669185  -0.210466   0.252267   0.018644   0.00799    0.23704\n",
       " -0.249547   0.541501   0.20842   -0.02397    0.175783   0.114525\n",
       " -0.005055   0.295037   0.213664  -0.157139  -0.306288   1.23048\n",
       "  0.118106   0.264725   0.712643  -2.01884   -0.111862  -0.990775\n",
       "  0.12683    1.06016    0.285714   0.170456  -0.117188   0.719111\n",
       " -0.298542  -0.527154   0.248585  -0.037287  -0.087891  -0.050604\n",
       "  2.35516   -3.92803   -0.211622  -3.63018   -0.026634  -1.94693\n",
       " -1.96499   -0.300555  -1.22691   -0.631219   0.039951   0.130505\n",
       " -4.50699   -6.6917    -1.33002    0.708457  -0.055931   2.10406\n",
       " -7.70417   -4.56992    2.44737   -0.44212    0.010653  -1.97889\n",
       "  ⋮                                                      ⋮\n",
       "  0.07614   -1.7031     0.803796   0.026634  -0.620566  -3.94179\n",
       " -0.545332   0.371223   0.707172   0.159802  -0.090555   0.47408\n",
       " -2.32382   -0.296031   1.71502    0.383526   0.22905   -0.239704\n",
       "  0.068821  -4.08361    5.39025    0.394179   0.617902   1.59536\n",
       "  0.330361   0.144771  -0.982163  -0.133169   0.22106    0.21307\n",
       " -0.2273    -0.67796   -1.58804    2.14135    0.250357   1.80843\n",
       " -0.548047   0.707006  -1.17943   -0.239704   0.02397    0.298298\n",
       "  0.732385   0.661191  -1.57957   -0.127842  -0.167792  -0.588605\n",
       "  0.882479   1.14931   -0.973728  -1.8617     0.20508    0.114525\n",
       "  0.840727  -2.01525   -0.742828   1.61134   -1.35832    2.61543\n",
       " -0.268022   0.10351   -1.28149    0.274327  -0.471417   0.332922\n",
       " -0.605948  -3.85567    7.11318    0.90022   -1.32636   -0.095881\n",
       "\n",
       ";;; … \n",
       "\n",
       "[:, :, 98] =\n",
       " -0.193271    0.055227   -0.04153    0.0       -0.013317  -0.063921\n",
       " -0.323383   -0.098593    0.063051  -0.018644  -0.010653  -0.135832\n",
       " -0.20644     0.209063    0.679102   0.279654  -0.03196   -0.372872\n",
       " -0.121576    0.565419   -0.07851   -0.01598    0.0        0.420813\n",
       " -0.161667   -0.034599    0.067971  -0.00799    0.010653  -0.141159\n",
       " -0.077186    0.030411    0.020097  -0.00799    0.037287   0.010653\n",
       " -0.236547    0.407018   -0.193675  -0.138495   0.013317  -0.042614\n",
       " -0.162921   -0.070385    0.244703  -0.234377  -0.074574  -0.503377\n",
       " -0.281073   -1.29932    -0.180477   0.055931   0.24503   -0.287644\n",
       " -0.294824    0.216479    0.02843    0.255684   0.111862   0.143822\n",
       "  3.55224   -12.2763     -4.56955   -2.37839    3.1561    -4.77809\n",
       " 13.4195     -2.33131    -0.238991  -0.617902   0.255684  -6.33084\n",
       "  8.318      -9.9935     -3.15635    2.73528   -2.38372    5.926\n",
       "  ⋮                                                        ⋮\n",
       "  1.53755     0.989398   -0.435478  -0.234377  -0.569962   1.73119\n",
       "  1.29487     1.90622     0.258126   0.548655  -0.990775   1.9709\n",
       " 22.8622     -3.74376     5.72599   -2.2612    -4.99382   -4.16818\n",
       "  5.44867    11.0083     -1.5597     4.03235   -1.96291    5.56645\n",
       "  2.05207    -0.253191    1.18126   -1.12394    0.713784   1.66727\n",
       "  6.8354      0.185777   -4.12274   -0.732428   5.69429   -0.346238\n",
       " 11.7495     -1.84799     1.93289    2.47161   -5.08171    1.77913\n",
       " -1.3625      0.859302   -0.329923  -0.844289   0.522021  -0.300961\n",
       "  6.01356     8.4494    -14.3116    -0.849616   6.89281   -0.149149\n",
       "  1.26826    -1.15538     3.63289    0.591269   1.86969    0.599259\n",
       "  0.873364   -2.68323     0.555119   0.431466  -0.617902   0.319605\n",
       "  2.49035    -0.878765   -0.597296   0.111862  -0.117188  -0.050604\n",
       "\n",
       "[:, :, 99] =\n",
       " -0.193271   0.055227   -0.04153    0.0       -0.013317  -0.063921\n",
       " -0.333625  -0.215987   -0.000848  -0.00799    0.01598    0.034624\n",
       " -0.544255  -0.558847    0.379032   0.159802   0.114525  -0.423476\n",
       " -0.097311   0.916712    0.007786  -0.106535  -0.055931   0.375536\n",
       " -0.161667  -0.034599    0.067971  -0.00799    0.010653  -0.141159\n",
       " -0.151137  -0.050431   -0.050165  -0.074574   0.01598    0.053267\n",
       " -0.347654   0.301901   -0.051349  -0.087891  -0.047941  -0.135832\n",
       " -0.162921  -0.070385    0.244703  -0.234377  -0.074574  -0.503377\n",
       " -0.373028  -0.97084    -0.540332  -0.162466   0.039951   0.234377\n",
       " -0.238427   0.328636   -0.371993   0.026634   0.114525   0.138495\n",
       " -6.65438   -8.57664    -3.47358   -2.84981    2.89775   -2.89775\n",
       " 13.4195    -2.33131    -0.238991  -0.617902   0.255684  -6.33084\n",
       "  9.26659    1.55321    -3.75883    0.093218  -0.881576   3.96043\n",
       "  ⋮                                                       ⋮\n",
       "  0.83496    3.29218     0.423278  -0.101208  -0.543328   1.47018\n",
       "  1.44194    5.23051     0.823864   0.24503   -0.743081   0.125179\n",
       " 17.4413    -9.06429     3.06852   -0.897557  -2.28517   -4.23743\n",
       "  3.88062    1.65124    -3.17481    0.68715   -1.72586    1.56074\n",
       " -0.427342   0.664755    0.418198  -1.24912    0.889566   1.0254\n",
       "  3.84588    0.68532   -12.8718    -2.86313    8.53611    2.41302\n",
       "  1.14465   13.558       3.23139    2.82051   -4.72482   -0.058594\n",
       "  2.84998   -2.92056   -12.3588     0.599259   0.775041  -0.306288\n",
       "  6.01356    8.4494    -14.3116    -0.849616   6.89281   -0.149149\n",
       "  0.327786  -0.120654    1.35016   -0.44212    3.5263     1.47284\n",
       " -0.005607  -2.18589     1.22465    1.10264   -1.27309    0.977458\n",
       "  4.12212    0.91162    -0.465409   0.535338   0.19709    0.44212\n",
       "\n",
       "[:, :, 100] =\n",
       "  -0.20515    -0.00339    -0.015113  -0.00799    -0.010653   -0.03196\n",
       "  -0.333625   -0.215987   -0.000848  -0.00799     0.01598     0.034624\n",
       "  -0.544255   -0.558847    0.379032   0.159802    0.114525   -0.423476\n",
       "  -0.294934    1.22197     0.173488  -0.058594   -0.066584    0.074574\n",
       "  -0.344005   -0.341859    0.072477   0.01598     0.053267    0.0\n",
       "  -0.074966    0.118589    0.003065  -0.018644   -0.005327    0.042614\n",
       "  -0.284163   -0.272509    0.103274  -0.093218   -0.047941   -0.295634\n",
       "  -0.208225   -0.871569    0.426556   0.02397    -0.018644   -0.476744\n",
       "  -0.238221   -0.360824   -0.4891    -0.173119   -0.154476    0.476744\n",
       "  -0.236918    0.537231   -0.496802   0.053267    0.029297    0.085228\n",
       " -13.6771     -6.30525    -0.51722   -2.91639     3.03891    -0.234377\n",
       " -10.3279    -10.4082      1.92429   -2.50357     0.26101    -2.18929\n",
       "   7.24549     8.80564    -4.06692   -0.045277   -0.002663   -0.162466\n",
       "   ⋮                                                          ⋮\n",
       "   0.312292    4.33542     0.790915  -0.053267   -0.327595    0.745744\n",
       "   1.44194     5.23051     0.823864   0.24503    -0.743081    0.125179\n",
       "   7.19193   -11.497       2.39564    0.556645   -1.31837    -1.09997\n",
       "  14.7698     14.0475     -8.10273    2.35709    -0.540665    1.92562\n",
       "  -0.427342    0.664755    0.418198  -1.24912     0.889566    1.0254\n",
       "   3.84588     0.68532   -12.8718    -2.86313     8.53611     2.41302\n",
       "  17.6495      5.7017      2.6635    -0.522021   -3.64083   -13.3355\n",
       "  15.886      -2.01293    -5.04748    4.7408    -12.683      13.9481\n",
       "  16.0202     -3.96976   -10.552      0.868259  -10.8586     -5.45991\n",
       "   0.327786   -0.120654    1.35016   -0.44212     3.5263      1.47284\n",
       "  -0.005607   -2.18589     1.22465    1.10264    -1.27309     0.977458\n",
       "   3.16927     0.826934   -0.362036  -0.298298    0.250357    0.428803"
      ]
     },
     "execution_count": 39,
     "metadata": {},
     "output_type": "execute_result"
    }
   ],
   "source": [
    "X_train = permutedims(X_train,(1,3,2))"
   ]
  },
  {
   "cell_type": "code",
   "execution_count": 74,
   "id": "2fd19b16",
   "metadata": {},
   "outputs": [
    {
     "data": {
      "text/plain": [
       "Rocket(10000, true, nothing, nothing, 0)"
      ]
     },
     "execution_count": 74,
     "metadata": {},
     "output_type": "execute_result"
    }
   ],
   "source": [
    "include(\"rocket.jl\")\n",
    "rocket = Rocket()"
   ]
  },
  {
   "cell_type": "code",
   "execution_count": 75,
   "id": "eedf7641",
   "metadata": {},
   "outputs": [
    {
     "data": {
      "text/plain": [
       "([-1.1850144437423964, 0.6952104614588539, -1.2100431023925748, -0.33554264342057044, -0.4549286699411126, -0.9901633615750198, 1.1652252150017923, 0.8008921908500434, 0.16566946893247772, 1.076388146927852  …  -0.014854204656481703, -0.6099224857370463, 0.30811986606989905, -0.28234683609748235, -0.2482650721824549, 0.9361182579868483, -1.0270019371928696, 1.7386430344935222, -1.6269600789856198, 0.509812631978056], [11, 11, 7, 7, 9, 7, 11, 7, 11, 7  …  7, 11, 9, 11, 7, 11, 9, 11, 9, 7], [0.6340780408530371, -0.34872567488581185, 0.7055844388987416, 0.844001314710803, -0.5080470296148103, -0.14846064454513042, 0.17007552494930023, -0.8423671406259117, -0.4052868379050356, -0.31378552565256923  …  0.37404983576181206, 0.04553882276425081, -0.9600819410782424, -0.17259610582729357, 0.7621674373967955, 0.21544844816173447, -0.6046228166697236, -0.20392567447459298, 0.589683584276216, -0.8886184874481162], [1.0, 4.0, 5.0, 3.0, 5.0, 1.0, 5.0, 1.0, 4.0, 1.0  …  5.0, 8.0, 4.0, 4.0, 2.0, 1.0, 1.0, 1.0, 3.0, 5.0], [0.0, 20.0, 0.0, 0.0, 20.0, 0.0, 25.0, 3.0, 20.0, 3.0  …  0.0, 0.0, 16.0, 0.0, 6.0, 0.0, 0.0, 0.0, 0.0, 0.0], [6, 2, 2, 1, 4, 1, 1, 1, 3, 4  …  1, 2, 1, 2, 1, 3, 5, 1, 2, 2], [5.0, 3.0, 7.0, 2.0, 1.0, 9.0, 1.0, 2.0, 5.0, 3.0  …  2.0, 9.0, 7.0, 8.0, 5.0, 6.0, 2.0, 3.0, 8.0, 4.0])"
      ]
     },
     "execution_count": 75,
     "metadata": {},
     "output_type": "execute_result"
    }
   ],
   "source": [
    "fit!(rocket, X_train)"
   ]
  },
  {
   "cell_type": "code",
   "execution_count": null,
   "id": "b5bd95b4",
   "metadata": {},
   "outputs": [],
   "source": []
  }
 ],
 "metadata": {
  "kernelspec": {
   "display_name": "Julia 1.7.2",
   "language": "julia",
   "name": "julia-1.7"
  },
  "language_info": {
   "file_extension": ".jl",
   "mimetype": "application/julia",
   "name": "julia",
   "version": "1.7.2"
  }
 },
 "nbformat": 4,
 "nbformat_minor": 5
}
