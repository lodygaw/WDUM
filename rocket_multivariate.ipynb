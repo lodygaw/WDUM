{
 "cells": [
  {
   "cell_type": "code",
   "execution_count": 1,
   "id": "b472a869",
   "metadata": {
    "scrolled": true
   },
   "outputs": [
    {
     "name": "stderr",
     "output_type": "stream",
     "text": [
      "\u001b[32m\u001b[1m  Activating\u001b[22m\u001b[39m project at `/Volumes/lodygaw/2022/learning/wdum`\n",
      "\u001b[32m\u001b[1m    Updating\u001b[22m\u001b[39m registry at `~/.julia/registries/General.toml`\n",
      "\u001b[32m\u001b[1m   Resolving\u001b[22m\u001b[39m package versions...\n",
      "\u001b[32m\u001b[1m  No Changes\u001b[22m\u001b[39m to `/Volumes/lodygaw/2022/learning/wdum/Project.toml`\n",
      "\u001b[32m\u001b[1m    Updating\u001b[22m\u001b[39m `/Volumes/lodygaw/2022/learning/wdum/Manifest.toml`\n",
      " \u001b[90m [7b1f6079] \u001b[39m\u001b[91m- FileWatching\u001b[39m\n",
      "\u001b[32m\u001b[1m   Resolving\u001b[22m\u001b[39m package versions...\n",
      "\u001b[32m\u001b[1m  No Changes\u001b[22m\u001b[39m to `/Volumes/lodygaw/2022/learning/wdum/Project.toml`\n",
      "\u001b[32m\u001b[1m  No Changes\u001b[22m\u001b[39m to `/Volumes/lodygaw/2022/learning/wdum/Manifest.toml`\n",
      "\u001b[32m\u001b[1m   Resolving\u001b[22m\u001b[39m package versions...\n",
      "\u001b[32m\u001b[1m  No Changes\u001b[22m\u001b[39m to `/Volumes/lodygaw/2022/learning/wdum/Project.toml`\n",
      "\u001b[32m\u001b[1m  No Changes\u001b[22m\u001b[39m to `/Volumes/lodygaw/2022/learning/wdum/Manifest.toml`\n",
      "\u001b[32m\u001b[1m   Resolving\u001b[22m\u001b[39m package versions...\n",
      "\u001b[32m\u001b[1m  No Changes\u001b[22m\u001b[39m to `/Volumes/lodygaw/2022/learning/wdum/Project.toml`\n",
      "\u001b[32m\u001b[1m  No Changes\u001b[22m\u001b[39m to `/Volumes/lodygaw/2022/learning/wdum/Manifest.toml`\n",
      "\u001b[32m\u001b[1m   Resolving\u001b[22m\u001b[39m package versions...\n",
      "\u001b[32m\u001b[1m  No Changes\u001b[22m\u001b[39m to `/Volumes/lodygaw/2022/learning/wdum/Project.toml`\n",
      "\u001b[32m\u001b[1m  No Changes\u001b[22m\u001b[39m to `/Volumes/lodygaw/2022/learning/wdum/Manifest.toml`\n",
      "\u001b[32m\u001b[1m   Resolving\u001b[22m\u001b[39m package versions...\n",
      "\u001b[32m\u001b[1m  No Changes\u001b[22m\u001b[39m to `/Volumes/lodygaw/2022/learning/wdum/Project.toml`\n",
      "\u001b[32m\u001b[1m  No Changes\u001b[22m\u001b[39m to `/Volumes/lodygaw/2022/learning/wdum/Manifest.toml`\n",
      "\u001b[32m\u001b[1m   Resolving\u001b[22m\u001b[39m package versions...\n",
      "\u001b[32m\u001b[1m  No Changes\u001b[22m\u001b[39m to `/Volumes/lodygaw/2022/learning/wdum/Project.toml`\n",
      "\u001b[32m\u001b[1m  No Changes\u001b[22m\u001b[39m to `/Volumes/lodygaw/2022/learning/wdum/Manifest.toml`\n",
      "\u001b[32m\u001b[1m  No Changes\u001b[22m\u001b[39m to `/Volumes/lodygaw/2022/learning/wdum/Project.toml`\n",
      "\u001b[32m\u001b[1m  No Changes\u001b[22m\u001b[39m to `/Volumes/lodygaw/2022/learning/wdum/Manifest.toml`\n"
     ]
    }
   ],
   "source": [
    "import Pkg\n",
    "Pkg.activate(\".\")\n",
    "Pkg.add(\"Distributions\")\n",
    "Pkg.add(\"Statistics\")\n",
    "Pkg.add(\"StatsBase\")\n",
    "Pkg.add(\"ARFFFiles\")\n",
    "Pkg.add(\"DataFrames\")\n",
    "Pkg.add(\"ScikitLearn\")\n",
    "Pkg.add(\"NPZ\")\n",
    "Pkg.resolve();"
   ]
  },
  {
   "cell_type": "code",
   "execution_count": 2,
   "id": "21e602d5",
   "metadata": {},
   "outputs": [
    {
     "data": {
      "text/plain": [
       "load_dataset (generic function with 3 methods)"
      ]
     },
     "execution_count": 2,
     "metadata": {},
     "output_type": "execute_result"
    }
   ],
   "source": [
    "import DataFrames, ARFFFiles\n",
    "function load_dataset(name::String, split=\"\", dataset_directory=\"./datasets\")\n",
    "    if split == \"\"\n",
    "        X_train, y_train = load_dataset(name, \"train\", dataset_directory)\n",
    "        X_test, y_test = load_dataset(name, \"test\", dataset_directory)\n",
    "        return X_train, y_train, X_test, y_test\n",
    "    end\n",
    "    \n",
    "    @assert split in [\"train\", \"test\"] \"\"\"You must specify \"train\" or \"test\" in  split parameter!\"\"\"\n",
    "    @info \"Loading dataset: $(name), scope: $(split)\"\n",
    "    \n",
    "    r = Regex(\"$(name)Dimension[0-9]*_$(uppercase(split)).arff\")\n",
    "    filenames = filter(x->match(r,x)!==nothing, readdir(\"$(dataset_directory)/$(name)/\"))\n",
    "    \n",
    "    X = permutedims(cat((Array{Float32}(ARFFFiles.load(DataFrames.DataFrame, \"$(dataset_directory)/$(name)/$(filename)\")[:,1:end-1]) for filename in filenames)..., dims=3), (1,3,2))\n",
    "    y = Array(ARFFFiles.load(DataFrames.DataFrame, \"$(dataset_directory)/$(name)/$(first(filenames))\"))[:,end]\n",
    "    \n",
    "    return X,y\n",
    "end"
   ]
  },
  {
   "cell_type": "code",
   "execution_count": 3,
   "id": "499a9c6e",
   "metadata": {},
   "outputs": [
    {
     "name": "stderr",
     "output_type": "stream",
     "text": [
      "┌ Info: Loading dataset: BasicMotions, scope: train\n",
      "└ @ Main In[2]:10\n",
      "┌ Info: Loading dataset: BasicMotions, scope: test\n",
      "└ @ Main In[2]:10\n"
     ]
    }
   ],
   "source": [
    "X_train, y_train, X_test, y_test = load_dataset(\"BasicMotions\");"
   ]
  },
  {
   "cell_type": "code",
   "execution_count": 4,
   "id": "eb2d8641",
   "metadata": {},
   "outputs": [],
   "source": [
    "include(\"rocket_v2.jl\")\n",
    "\n",
    "rocket = Rocket(10_000)\n",
    "fit!(rocket, X_train);\n",
    "\n",
    "# using NPZ\n",
    "# npzwrite(\"weights.npz\", rocket.kernels[1])\n",
    "# npzwrite(\"lengths.npz\", rocket.kernels[2])\n",
    "# npzwrite(\"biases.npz\", rocket.kernels[3])\n",
    "# npzwrite(\"dilations.npz\", rocket.kernels[4])\n",
    "# npzwrite(\"paddings.npz\", rocket.kernels[5])\n",
    "# npzwrite(\"num_channel_indices.npz\", rocket.kernels[6])\n",
    "# npzwrite(\"channel_indices.npz\", rocket.kernels[7])"
   ]
  },
  {
   "cell_type": "code",
   "execution_count": 5,
   "id": "799be4e2",
   "metadata": {},
   "outputs": [
    {
     "data": {
      "text/plain": [
       "40×20000 Matrix{Float32}:\n",
       " 0.928571   2.63352  0.72   5.81725  …  0.8   20.8784   0.0326087  2.317\n",
       " 0.607143  10.6738   0.54   8.37816     0.54  11.8453   0.347826   3.83605\n",
       " 0.607143   8.78448  0.55   5.00118     0.57  10.2695   0.293478   1.62749\n",
       " 0.607143  13.4096   0.59  10.3395      0.56  11.3119   0.271739   4.34426\n",
       " 0.642857   7.98082  0.55   4.24509     0.5   14.7      0.304348   4.38295\n",
       " 0.607143  17.3522   0.57  11.4096   …  0.52  18.1372   0.347826   4.74337\n",
       " 0.607143  13.2529   0.58   5.26846     0.59   9.23376  0.217391   4.02504\n",
       " 0.583333  12.8767   0.53   7.89417     0.51   8.73115  0.315217   3.68204\n",
       " 0.738095  12.6367   0.56   5.55874     0.61  12.7532   0.25       4.32899\n",
       " 0.583333  10.5836   0.59   6.87998     0.54  10.9058   0.282609   4.44029\n",
       " 0.630952  10.335    0.53   4.75142  …  0.56   8.82414  0.358696   2.42151\n",
       " 0.583333  11.2848   0.53   4.87004     0.51   8.83813  0.358696   2.96065\n",
       " 0.654762   8.66403  0.53   3.71333     0.49   7.86445  0.358696   2.28285\n",
       " ⋮                                   ⋱                             \n",
       " 0.571429  13.0891   0.57   4.38224     0.52   7.132    0.358696   1.89091\n",
       " 0.547619  12.4915   0.65   4.08021     0.44   9.76645  0.369565   1.93453\n",
       " 0.642857  12.8712   0.68   4.80594  …  0.56  16.597    0.184783   3.28414\n",
       " 0.559524  14.5139   0.59   4.92298     0.54  10.0427   0.228261   3.30206\n",
       " 0.630952  14.9267   0.63   4.1883      0.58  10.4976   0.195652   3.02987\n",
       " 0.595238  13.7514   0.57   4.33056     0.51  14.05     0.25       3.85171\n",
       " 0.547619  13.4856   0.6    4.90645     0.52  11.6661   0.23913    2.96745\n",
       " 0.595238  13.0125   0.57   6.9819   …  0.47  11.266    0.282609   3.4957\n",
       " 0.547619  12.7402   0.63   4.67732     0.51  12.3397   0.217391   2.42389\n",
       " 0.571429  13.6114   0.63   4.94281     0.52  15.93     0.23913    4.14742\n",
       " 0.595238  12.4298   0.64   5.21538     0.56   8.4001   0.25       2.98587\n",
       " 0.571429  10.5646   0.59   5.76791     0.6   14.6061   0.23913    3.44955"
      ]
     },
     "execution_count": 5,
     "metadata": {},
     "output_type": "execute_result"
    }
   ],
   "source": [
    "X_train_transform = transform!(rocket, X_train)\n",
    "X_test_transform = transform!(rocket, X_test)"
   ]
  },
  {
   "cell_type": "code",
   "execution_count": 6,
   "id": "5f3272b0",
   "metadata": {
    "scrolled": false
   },
   "outputs": [
    {
     "name": "stdout",
     "output_type": "stream",
     "text": [
      "Retrieving notices: ...working... done\n",
      "Collecting package metadata (current_repodata.json): ...working... done\n",
      "Solving environment: ...working... done\n",
      "\n",
      "# All requested packages already installed.\n",
      "\n"
     ]
    },
    {
     "name": "stderr",
     "output_type": "stream",
     "text": [
      "┌ Info: Running `conda install -y -c conda-forge llvm-openmp` in root environment\n",
      "└ @ Conda /Users/wiktor/.julia/packages/Conda/x2UxR/src/Conda.jl:127\n"
     ]
    },
    {
     "ename": "LoadError",
     "evalue": "PyError ($(Expr(:escape, :(ccall(#= /Users/wiktor/.julia/packages/PyCall/ygXW2/src/pyfncall.jl:43 =# @pysym(:PyObject_Call), PyPtr, (PyPtr, PyPtr, PyPtr), o, pyargsptr, kw))))) <class 'ValueError'>\nValueError('Unknown label type: (array([<PyCall.jlwrap Standing>, <PyCall.jlwrap Standing>,\\n       <PyCall.jlwrap Standing>, <PyCall.jlwrap Standing>,\\n       <PyCall.jlwrap Standing>, <PyCall.jlwrap Standing>,\\n       <PyCall.jlwrap Standing>, <PyCall.jlwrap Standing>,\\n       <PyCall.jlwrap Standing>, <PyCall.jlwrap Standing>,\\n       <PyCall.jlwrap Running>, <PyCall.jlwrap Running>,\\n       <PyCall.jlwrap Running>, <PyCall.jlwrap Running>,\\n       <PyCall.jlwrap Running>, <PyCall.jlwrap Running>,\\n       <PyCall.jlwrap Running>, <PyCall.jlwrap Running>,\\n       <PyCall.jlwrap Running>, <PyCall.jlwrap Running>,\\n       <PyCall.jlwrap Walking>, <PyCall.jlwrap Walking>,\\n       <PyCall.jlwrap Walking>, <PyCall.jlwrap Walking>,\\n       <PyCall.jlwrap Walking>, <PyCall.jlwrap Walking>,\\n       <PyCall.jlwrap Walking>, <PyCall.jlwrap Walking>,\\n       <PyCall.jlwrap Walking>, <PyCall.jlwrap Walking>,\\n       <PyCall.jlwrap Badminton>, <PyCall.jlwrap Badminton>,\\n       <PyCall.jlwrap Badminton>, <PyCall.jlwrap Badminton>,\\n       <PyCall.jlwrap Badminton>, <PyCall.jlwrap Badminton>,\\n       <PyCall.jlwrap Badminton>, <PyCall.jlwrap Badminton>,\\n       <PyCall.jlwrap Badminton>, <PyCall.jlwrap Badminton>], dtype=object),)')\n  File \"/Users/wiktor/.julia/conda/3/lib/python3.8/site-packages/sklearn/linear_model/_ridge.py\", line 2527, in fit\n    X, y, sample_weight, Y = self._prepare_data(X, y, sample_weight, solver=\"eigen\")\n  File \"/Users/wiktor/.julia/conda/3/lib/python3.8/site-packages/sklearn/linear_model/_ridge.py\", line 1176, in _prepare_data\n    Y = self._label_binarizer.fit_transform(y)\n  File \"/Users/wiktor/.julia/conda/3/lib/python3.8/site-packages/sklearn/preprocessing/_label.py\", line 325, in fit_transform\n    return self.fit(y).transform(y)\n  File \"/Users/wiktor/.julia/conda/3/lib/python3.8/site-packages/sklearn/preprocessing/_label.py\", line 302, in fit\n    self.classes_ = unique_labels(y)\n  File \"/Users/wiktor/.julia/conda/3/lib/python3.8/site-packages/sklearn/utils/multiclass.py\", line 103, in unique_labels\n    raise ValueError(\"Unknown label type: %s\" % repr(ys))\n",
     "output_type": "error",
     "traceback": [
      "PyError ($(Expr(:escape, :(ccall(#= /Users/wiktor/.julia/packages/PyCall/ygXW2/src/pyfncall.jl:43 =# @pysym(:PyObject_Call), PyPtr, (PyPtr, PyPtr, PyPtr), o, pyargsptr, kw))))) <class 'ValueError'>\nValueError('Unknown label type: (array([<PyCall.jlwrap Standing>, <PyCall.jlwrap Standing>,\\n       <PyCall.jlwrap Standing>, <PyCall.jlwrap Standing>,\\n       <PyCall.jlwrap Standing>, <PyCall.jlwrap Standing>,\\n       <PyCall.jlwrap Standing>, <PyCall.jlwrap Standing>,\\n       <PyCall.jlwrap Standing>, <PyCall.jlwrap Standing>,\\n       <PyCall.jlwrap Running>, <PyCall.jlwrap Running>,\\n       <PyCall.jlwrap Running>, <PyCall.jlwrap Running>,\\n       <PyCall.jlwrap Running>, <PyCall.jlwrap Running>,\\n       <PyCall.jlwrap Running>, <PyCall.jlwrap Running>,\\n       <PyCall.jlwrap Running>, <PyCall.jlwrap Running>,\\n       <PyCall.jlwrap Walking>, <PyCall.jlwrap Walking>,\\n       <PyCall.jlwrap Walking>, <PyCall.jlwrap Walking>,\\n       <PyCall.jlwrap Walking>, <PyCall.jlwrap Walking>,\\n       <PyCall.jlwrap Walking>, <PyCall.jlwrap Walking>,\\n       <PyCall.jlwrap Walking>, <PyCall.jlwrap Walking>,\\n       <PyCall.jlwrap Badminton>, <PyCall.jlwrap Badminton>,\\n       <PyCall.jlwrap Badminton>, <PyCall.jlwrap Badminton>,\\n       <PyCall.jlwrap Badminton>, <PyCall.jlwrap Badminton>,\\n       <PyCall.jlwrap Badminton>, <PyCall.jlwrap Badminton>,\\n       <PyCall.jlwrap Badminton>, <PyCall.jlwrap Badminton>], dtype=object),)')\n  File \"/Users/wiktor/.julia/conda/3/lib/python3.8/site-packages/sklearn/linear_model/_ridge.py\", line 2527, in fit\n    X, y, sample_weight, Y = self._prepare_data(X, y, sample_weight, solver=\"eigen\")\n  File \"/Users/wiktor/.julia/conda/3/lib/python3.8/site-packages/sklearn/linear_model/_ridge.py\", line 1176, in _prepare_data\n    Y = self._label_binarizer.fit_transform(y)\n  File \"/Users/wiktor/.julia/conda/3/lib/python3.8/site-packages/sklearn/preprocessing/_label.py\", line 325, in fit_transform\n    return self.fit(y).transform(y)\n  File \"/Users/wiktor/.julia/conda/3/lib/python3.8/site-packages/sklearn/preprocessing/_label.py\", line 302, in fit\n    self.classes_ = unique_labels(y)\n  File \"/Users/wiktor/.julia/conda/3/lib/python3.8/site-packages/sklearn/utils/multiclass.py\", line 103, in unique_labels\n    raise ValueError(\"Unknown label type: %s\" % repr(ys))\n",
      "",
      "Stacktrace:",
      "  [1] pyerr_check",
      "    @ ~/.julia/packages/PyCall/ygXW2/src/exception.jl:62 [inlined]",
      "  [2] pyerr_check",
      "    @ ~/.julia/packages/PyCall/ygXW2/src/exception.jl:66 [inlined]",
      "  [3] _handle_error(msg::String)",
      "    @ PyCall ~/.julia/packages/PyCall/ygXW2/src/exception.jl:83",
      "  [4] macro expansion",
      "    @ ~/.julia/packages/PyCall/ygXW2/src/exception.jl:97 [inlined]",
      "  [5] #107",
      "    @ ~/.julia/packages/PyCall/ygXW2/src/pyfncall.jl:43 [inlined]",
      "  [6] disable_sigint",
      "    @ ./c.jl:458 [inlined]",
      "  [7] __pycall!",
      "    @ ~/.julia/packages/PyCall/ygXW2/src/pyfncall.jl:42 [inlined]",
      "  [8] _pycall!(ret::PyCall.PyObject, o::PyCall.PyObject, args::Tuple{Matrix{Float32}, Vector{Any}}, nargs::Int64, kw::Ptr{Nothing})",
      "    @ PyCall ~/.julia/packages/PyCall/ygXW2/src/pyfncall.jl:29",
      "  [9] _pycall!(ret::PyCall.PyObject, o::PyCall.PyObject, args::Tuple{Matrix{Float32}, Vector{Any}}, kwargs::Base.Pairs{Symbol, Union{}, Tuple{}, NamedTuple{(), Tuple{}}})",
      "    @ PyCall ~/.julia/packages/PyCall/ygXW2/src/pyfncall.jl:11",
      " [10] (::PyCall.PyObject)(::Matrix{Float32}, ::Vararg{Any}; kwargs::Base.Pairs{Symbol, Union{}, Tuple{}, NamedTuple{(), Tuple{}}})",
      "    @ PyCall ~/.julia/packages/PyCall/ygXW2/src/pyfncall.jl:86",
      " [11] (::PyCall.PyObject)(::Matrix{Float32}, ::Vararg{Any})",
      "    @ PyCall ~/.julia/packages/PyCall/ygXW2/src/pyfncall.jl:86",
      " [12] top-level scope",
      "    @ In[6]:7",
      " [13] eval",
      "    @ ./boot.jl:373 [inlined]",
      " [14] include_string(mapexpr::typeof(REPL.softscope), mod::Module, code::String, filename::String)",
      "    @ Base ./loading.jl:1196"
     ]
    }
   ],
   "source": [
    "using ScikitLearn\n",
    "@sk_import linear_model : RidgeClassifierCV\n",
    "alphas = [1.00000000e-03, 4.64158883e-03, 2.15443469e-02, 1.00000000e-01,\n",
    "       4.64158883e-01, 2.15443469e+00, 1.00000000e+01, 4.64158883e+01,\n",
    "       2.15443469e+02, 1.00000000e+03]\n",
    "ridge = RidgeClassifierCV(alphas=alphas, normalize=true);\n",
    "ridge.fit(X_train_transform, y_train)\n",
    "ridge.score(X_test_transform, y_test)"
   ]
  },
  {
   "cell_type": "code",
   "execution_count": null,
   "id": "546ebbfa",
   "metadata": {},
   "outputs": [],
   "source": []
  }
 ],
 "metadata": {
  "kernelspec": {
   "display_name": "Julia 1.7.2",
   "language": "julia",
   "name": "julia-1.7"
  },
  "language_info": {
   "file_extension": ".jl",
   "mimetype": "application/julia",
   "name": "julia",
   "version": "1.7.2"
  }
 },
 "nbformat": 4,
 "nbformat_minor": 5
}
