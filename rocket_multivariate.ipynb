{
 "cells": [
  {
   "cell_type": "code",
   "execution_count": 1,
   "id": "b472a869",
   "metadata": {},
   "outputs": [
    {
     "name": "stderr",
     "output_type": "stream",
     "text": [
      "\u001b[32m\u001b[1m  Activating\u001b[22m\u001b[39m project at `/Volumes/lodygaw/qnap | 2022/wdum`\n",
      "\u001b[32m\u001b[1m    Updating\u001b[22m\u001b[39m registry at `~/.julia/registries/General`\n",
      "\u001b[32m\u001b[1m    Updating\u001b[22m\u001b[39m git-repo `https://github.com/JuliaRegistries/General.git`\n",
      "\u001b[32m\u001b[1m   Resolving\u001b[22m\u001b[39m package versions...\n",
      "\u001b[32m\u001b[1m  No Changes\u001b[22m\u001b[39m to `/Volumes/lodygaw/qnap | 2022/wdum/Project.toml`\n",
      "\u001b[32m\u001b[1m  No Changes\u001b[22m\u001b[39m to `/Volumes/lodygaw/qnap | 2022/wdum/Manifest.toml`\n",
      "\u001b[32m\u001b[1m   Resolving\u001b[22m\u001b[39m package versions...\n",
      "\u001b[32m\u001b[1m  No Changes\u001b[22m\u001b[39m to `/Volumes/lodygaw/qnap | 2022/wdum/Project.toml`\n",
      "\u001b[32m\u001b[1m  No Changes\u001b[22m\u001b[39m to `/Volumes/lodygaw/qnap | 2022/wdum/Manifest.toml`\n",
      "\u001b[32m\u001b[1m   Resolving\u001b[22m\u001b[39m package versions...\n",
      "\u001b[32m\u001b[1m  No Changes\u001b[22m\u001b[39m to `/Volumes/lodygaw/qnap | 2022/wdum/Project.toml`\n",
      "\u001b[32m\u001b[1m  No Changes\u001b[22m\u001b[39m to `/Volumes/lodygaw/qnap | 2022/wdum/Manifest.toml`\n",
      "\u001b[32m\u001b[1m   Resolving\u001b[22m\u001b[39m package versions...\n",
      "\u001b[32m\u001b[1m  No Changes\u001b[22m\u001b[39m to `/Volumes/lodygaw/qnap | 2022/wdum/Project.toml`\n",
      "\u001b[32m\u001b[1m  No Changes\u001b[22m\u001b[39m to `/Volumes/lodygaw/qnap | 2022/wdum/Manifest.toml`\n",
      "\u001b[32m\u001b[1m   Resolving\u001b[22m\u001b[39m package versions...\n",
      "\u001b[32m\u001b[1m  No Changes\u001b[22m\u001b[39m to `/Volumes/lodygaw/qnap | 2022/wdum/Project.toml`\n",
      "\u001b[32m\u001b[1m  No Changes\u001b[22m\u001b[39m to `/Volumes/lodygaw/qnap | 2022/wdum/Manifest.toml`\n",
      "\u001b[32m\u001b[1m   Resolving\u001b[22m\u001b[39m package versions...\n",
      "\u001b[32m\u001b[1m  No Changes\u001b[22m\u001b[39m to `/Volumes/lodygaw/qnap | 2022/wdum/Project.toml`\n",
      "\u001b[32m\u001b[1m  No Changes\u001b[22m\u001b[39m to `/Volumes/lodygaw/qnap | 2022/wdum/Manifest.toml`\n",
      "\u001b[32m\u001b[1m   Resolving\u001b[22m\u001b[39m package versions...\n",
      "\u001b[32m\u001b[1m   Installed\u001b[22m\u001b[39m MacroTools ─ v0.5.10\n",
      "\u001b[32m\u001b[1m   Installed\u001b[22m\u001b[39m PyCall ───── v1.94.1\n",
      "\u001b[32m\u001b[1m    Updating\u001b[22m\u001b[39m `/Volumes/lodygaw/qnap | 2022/wdum/Project.toml`\n",
      " \u001b[90m [3646fa90] \u001b[39m\u001b[92m+ ScikitLearn v0.6.5\u001b[39m\n",
      "\u001b[32m\u001b[1m    Updating\u001b[22m\u001b[39m `/Volumes/lodygaw/qnap | 2022/wdum/Manifest.toml`\n",
      " \u001b[90m [8f4d0f93] \u001b[39m\u001b[92m+ Conda v1.7.0\u001b[39m\n",
      " \u001b[90m [c8e1da08] \u001b[39m\u001b[92m+ IterTools v1.4.0\u001b[39m\n",
      " \u001b[90m [1914dd2f] \u001b[39m\u001b[92m+ MacroTools v0.5.10\u001b[39m\n",
      " \u001b[90m [438e738f] \u001b[39m\u001b[92m+ PyCall v1.94.1\u001b[39m\n",
      " \u001b[90m [3646fa90] \u001b[39m\u001b[92m+ ScikitLearn v0.6.5\u001b[39m\n",
      " \u001b[90m [81def892] \u001b[39m\u001b[92m+ VersionParsing v1.3.0\u001b[39m\n",
      "\u001b[32m\u001b[1m    Building\u001b[22m\u001b[39m PyCall → `~/.julia/scratchspaces/44cfe95a-1eb2-52ea-b672-e2afdf69b78f/53b8b07b721b77144a0fbbbc2675222ebf40a02d/build.log`\n",
      "\u001b[32m\u001b[1mPrecompiling\u001b[22m\u001b[39m project...\n",
      "\u001b[32m  ✓ \u001b[39m\u001b[90mMacroTools\u001b[39m\n",
      "\u001b[32m  ✓ \u001b[39m\u001b[90mPyCall\u001b[39m\n",
      "\u001b[32m  ✓ \u001b[39mScikitLearn\n",
      "  3 dependencies successfully precompiled in 9 seconds (126 already precompiled)\n",
      "\u001b[32m\u001b[1m  No Changes\u001b[22m\u001b[39m to `/Volumes/lodygaw/qnap | 2022/wdum/Project.toml`\n",
      "\u001b[32m\u001b[1m  No Changes\u001b[22m\u001b[39m to `/Volumes/lodygaw/qnap | 2022/wdum/Manifest.toml`\n"
     ]
    }
   ],
   "source": [
    "import Pkg\n",
    "Pkg.activate(\".\")\n",
    "Pkg.add(\"StaticArrays\")\n",
    "Pkg.add(\"Distributions\")\n",
    "Pkg.add(\"Statistics\")\n",
    "Pkg.add(\"StatsBase\")\n",
    "Pkg.add(\"ARFFFiles\")\n",
    "Pkg.add(\"DataFrames\")\n",
    "Pkg.add(\"ScikitLearn\")\n",
    "Pkg.resolve()"
   ]
  },
  {
   "cell_type": "code",
   "execution_count": null,
   "id": "2d1a07f7",
   "metadata": {},
   "outputs": [],
   "source": [
    "using ARFFFiles, DataFrames\n",
    "acc_x_train = ARFFFiles.load(DataFrame, \"./datasets/BasicMotions/BasicMotionsDimension1_TRAIN.arff\");\n",
    "acc_y_train = ARFFFiles.load(DataFrame, \"./datasets/BasicMotions/BasicMotionsDimension2_TRAIN.arff\");\n",
    "acc_z_train = ARFFFiles.load(DataFrame, \"./datasets/BasicMotions/BasicMotionsDimension3_TRAIN.arff\");\n",
    "gyr_x_train = ARFFFiles.load(DataFrame, \"./datasets/BasicMotions/BasicMotionsDimension4_TRAIN.arff\");\n",
    "gyr_y_train = ARFFFiles.load(DataFrame, \"./datasets/BasicMotions/BasicMotionsDimension5_TRAIN.arff\");\n",
    "gyr_z_train = ARFFFiles.load(DataFrame, \"./datasets/BasicMotions/BasicMotionsDimension6_TRAIN.arff\");\n",
    "acc_x_test = ARFFFiles.load(DataFrame, \"./datasets/BasicMotions/BasicMotionsDimension1_TEST.arff\");\n",
    "acc_y_test = ARFFFiles.load(DataFrame, \"./datasets/BasicMotions/BasicMotionsDimension2_TEST.arff\");\n",
    "acc_z_test = ARFFFiles.load(DataFrame, \"./datasets/BasicMotions/BasicMotionsDimension3_TEST.arff\");\n",
    "gyr_x_test = ARFFFiles.load(DataFrame, \"./datasets/BasicMotions/BasicMotionsDimension4_TEST.arff\");\n",
    "gyr_y_test = ARFFFiles.load(DataFrame, \"./datasets/BasicMotions/BasicMotionsDimension5_TEST.arff\");\n",
    "gyr_z_test = ARFFFiles.load(DataFrame, \"./datasets/BasicMotions/BasicMotionsDimension6_TEST.arff\");"
   ]
  },
  {
   "cell_type": "markdown",
   "id": "c6c10d97",
   "metadata": {},
   "source": [
    "Stratyfikacja - wylosowanie osobno z każdej klasy, żeby uniknąć przypadkowego podziału danych na zbiór testowy i treningowy, w których będzie brakować jakiś klas."
   ]
  },
  {
   "cell_type": "code",
   "execution_count": null,
   "id": "499a9c6e",
   "metadata": {},
   "outputs": [],
   "source": [
    "X_train = permutedims(cat(Array(acc_x_train[:,1:100]), Array(acc_y_train[:,1:100]), Array(acc_z_train[:,1:100]), Array(gyr_x_train[:,1:100]), Array(gyr_y_train[:,1:100]), Array(gyr_z_train[:,1:100]) ; dims=3),(1,3,2));"
   ]
  },
  {
   "cell_type": "code",
   "execution_count": null,
   "id": "eb2d8641",
   "metadata": {},
   "outputs": [],
   "source": [
    "include(\"rocket.jl\")\n",
    "rocket = Rocket()\n",
    "fit!(rocket, X_train)\n",
    "X_train_transform = transform!(rocket, X_train)"
   ]
  },
  {
   "cell_type": "code",
   "execution_count": null,
   "id": "9945d10a",
   "metadata": {},
   "outputs": [],
   "source": [
    "using ScikitLearn\n",
    "@sk_import linear_model : RidgeClassifierCV"
   ]
  },
  {
   "cell_type": "code",
   "execution_count": null,
   "id": "bb6090d0",
   "metadata": {},
   "outputs": [],
   "source": []
  }
 ],
 "metadata": {
  "kernelspec": {
   "display_name": "Julia 1.7.3",
   "language": "julia",
   "name": "julia-1.7"
  },
  "language_info": {
   "file_extension": ".jl",
   "mimetype": "application/julia",
   "name": "julia",
   "version": "1.7.3"
  }
 },
 "nbformat": 4,
 "nbformat_minor": 5
}
