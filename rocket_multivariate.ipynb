{
 "cells": [
  {
   "cell_type": "code",
   "execution_count": 1,
   "id": "b472a869",
   "metadata": {
    "scrolled": true
   },
   "outputs": [
    {
     "name": "stderr",
     "output_type": "stream",
     "text": [
      "\u001b[32m\u001b[1m  Activating\u001b[22m\u001b[39m project at `/Volumes/lodygaw/2022/learning/wdum`\n",
      "\u001b[32m\u001b[1m    Updating\u001b[22m\u001b[39m registry at `~/.julia/registries/General.toml`\n",
      "\u001b[32m\u001b[1m   Resolving\u001b[22m\u001b[39m package versions...\n",
      "\u001b[32m\u001b[1m  No Changes\u001b[22m\u001b[39m to `/Volumes/lodygaw/2022/learning/wdum/Project.toml`\n",
      "\u001b[32m\u001b[1m  No Changes\u001b[22m\u001b[39m to `/Volumes/lodygaw/2022/learning/wdum/Manifest.toml`\n",
      "\u001b[32m\u001b[1m   Resolving\u001b[22m\u001b[39m package versions...\n",
      "\u001b[32m\u001b[1m  No Changes\u001b[22m\u001b[39m to `/Volumes/lodygaw/2022/learning/wdum/Project.toml`\n",
      "\u001b[32m\u001b[1m  No Changes\u001b[22m\u001b[39m to `/Volumes/lodygaw/2022/learning/wdum/Manifest.toml`\n",
      "\u001b[32m\u001b[1m   Resolving\u001b[22m\u001b[39m package versions...\n",
      "\u001b[32m\u001b[1m  No Changes\u001b[22m\u001b[39m to `/Volumes/lodygaw/2022/learning/wdum/Project.toml`\n",
      "\u001b[32m\u001b[1m  No Changes\u001b[22m\u001b[39m to `/Volumes/lodygaw/2022/learning/wdum/Manifest.toml`\n",
      "\u001b[32m\u001b[1m   Resolving\u001b[22m\u001b[39m package versions...\n",
      "\u001b[32m\u001b[1m  No Changes\u001b[22m\u001b[39m to `/Volumes/lodygaw/2022/learning/wdum/Project.toml`\n",
      "\u001b[32m\u001b[1m  No Changes\u001b[22m\u001b[39m to `/Volumes/lodygaw/2022/learning/wdum/Manifest.toml`\n",
      "\u001b[32m\u001b[1m   Resolving\u001b[22m\u001b[39m package versions...\n",
      "\u001b[32m\u001b[1m  No Changes\u001b[22m\u001b[39m to `/Volumes/lodygaw/2022/learning/wdum/Project.toml`\n",
      "\u001b[32m\u001b[1m  No Changes\u001b[22m\u001b[39m to `/Volumes/lodygaw/2022/learning/wdum/Manifest.toml`\n",
      "\u001b[32m\u001b[1m   Resolving\u001b[22m\u001b[39m package versions...\n",
      "\u001b[32m\u001b[1m  No Changes\u001b[22m\u001b[39m to `/Volumes/lodygaw/2022/learning/wdum/Project.toml`\n",
      "\u001b[32m\u001b[1m  No Changes\u001b[22m\u001b[39m to `/Volumes/lodygaw/2022/learning/wdum/Manifest.toml`\n",
      "\u001b[32m\u001b[1m   Resolving\u001b[22m\u001b[39m package versions...\n",
      "\u001b[32m\u001b[1m  No Changes\u001b[22m\u001b[39m to `/Volumes/lodygaw/2022/learning/wdum/Project.toml`\n",
      "\u001b[32m\u001b[1m  No Changes\u001b[22m\u001b[39m to `/Volumes/lodygaw/2022/learning/wdum/Manifest.toml`\n",
      "\u001b[32m\u001b[1m  No Changes\u001b[22m\u001b[39m to `/Volumes/lodygaw/2022/learning/wdum/Project.toml`\n",
      "\u001b[32m\u001b[1m  No Changes\u001b[22m\u001b[39m to `/Volumes/lodygaw/2022/learning/wdum/Manifest.toml`\n"
     ]
    }
   ],
   "source": [
    "import Pkg\n",
    "Pkg.activate(\".\")\n",
    "Pkg.add(\"Distributions\")\n",
    "Pkg.add(\"Statistics\")\n",
    "Pkg.add(\"StatsBase\")\n",
    "Pkg.add(\"ARFFFiles\")\n",
    "Pkg.add(\"DataFrames\")\n",
    "Pkg.add(\"ScikitLearn\")\n",
    "Pkg.add(\"NPZ\")\n",
    "Pkg.resolve();"
   ]
  },
  {
   "cell_type": "code",
   "execution_count": null,
   "id": "76a99702",
   "metadata": {},
   "outputs": [],
   "source": [
    "function load_dataset(name::String, split::String, return_X_y::Bool)\n",
    "    @assert split in [\"train\", \"test\"] \"\"\"You must specify \"train\" or \"test\" in  split parameter!\"\"\"\n",
    "    \n",
    "    r = Regex(\"$(name)Dimension[0-9]*_$(uppercase(split)).arff\")\n",
    "    filenames = filter(x->match(r,x)!==nothing, readdir(\"datasets/$(name)/\"))\n",
    "end"
   ]
  },
  {
   "cell_type": "code",
   "execution_count": 2,
   "id": "2d1a07f7",
   "metadata": {},
   "outputs": [],
   "source": [
    "using ARFFFiles, DataFrames\n",
    "acc_x_train = ARFFFiles.load(DataFrame, \"./datasets/BasicMotions/BasicMotionsDimension1_TRAIN.arff\");\n",
    "acc_y_train = ARFFFiles.load(DataFrame, \"./datasets/BasicMotions/BasicMotionsDimension2_TRAIN.arff\");\n",
    "acc_z_train = ARFFFiles.load(DataFrame, \"./datasets/BasicMotions/BasicMotionsDimension3_TRAIN.arff\");\n",
    "gyr_x_train = ARFFFiles.load(DataFrame, \"./datasets/BasicMotions/BasicMotionsDimension4_TRAIN.arff\");\n",
    "gyr_y_train = ARFFFiles.load(DataFrame, \"./datasets/BasicMotions/BasicMotionsDimension5_TRAIN.arff\");\n",
    "gyr_z_train = ARFFFiles.load(DataFrame, \"./datasets/BasicMotions/BasicMotionsDimension6_TRAIN.arff\");\n",
    "acc_x_test = ARFFFiles.load(DataFrame, \"./datasets/BasicMotions/BasicMotionsDimension1_TEST.arff\");\n",
    "acc_y_test = ARFFFiles.load(DataFrame, \"./datasets/BasicMotions/BasicMotionsDimension2_TEST.arff\");\n",
    "acc_z_test = ARFFFiles.load(DataFrame, \"./datasets/BasicMotions/BasicMotionsDimension3_TEST.arff\");\n",
    "gyr_x_test = ARFFFiles.load(DataFrame, \"./datasets/BasicMotions/BasicMotionsDimension4_TEST.arff\");\n",
    "gyr_y_test = ARFFFiles.load(DataFrame, \"./datasets/BasicMotions/BasicMotionsDimension5_TEST.arff\");\n",
    "gyr_z_test = ARFFFiles.load(DataFrame, \"./datasets/BasicMotions/BasicMotionsDimension6_TEST.arff\");"
   ]
  },
  {
   "cell_type": "markdown",
   "id": "c6c10d97",
   "metadata": {},
   "source": [
    "Stratyfikacja - wylosowanie osobno z każdej klasy, żeby uniknąć przypadkowego podziału danych na zbiór testowy i treningowy, w których będzie brakować jakiś klas."
   ]
  },
  {
   "cell_type": "code",
   "execution_count": 3,
   "id": "499a9c6e",
   "metadata": {},
   "outputs": [],
   "source": [
    "X_train = Array{Float64,3}(permutedims(cat(Array(acc_x_train[:,1:100]), Array(acc_y_train[:,1:100]), Array(acc_z_train[:,1:100]), Array(gyr_x_train[:,1:100]), Array(gyr_y_train[:,1:100]), Array(gyr_z_train[:,1:100]) ; dims=3),(1,3,2)));\n",
    "y_train = Array(acc_x_train[:,101]);\n",
    "X_test = Array{Float64,3}(permutedims(cat(Array(acc_x_test[:,1:100]), Array(acc_y_test[:,1:100]), Array(acc_z_test[:,1:100]), Array(gyr_x_test[:,1:100]), Array(gyr_y_test[:,1:100]), Array(gyr_z_test[:,1:100]) ; dims=3),(1,3,2)));\n",
    "y_test = Array(acc_x_test[:,101]);"
   ]
  },
  {
   "cell_type": "code",
   "execution_count": 4,
   "id": "eb2d8641",
   "metadata": {},
   "outputs": [],
   "source": [
    "include(\"rocket.jl\")\n",
    "\n",
    "rocket = Rocket(10_000)\n",
    "fit!(rocket, X_train);\n",
    "\n",
    "# using NPZ\n",
    "# npzwrite(\"weights.npz\", rocket.kernels[1])\n",
    "# npzwrite(\"lengths.npz\", rocket.kernels[2])\n",
    "# npzwrite(\"biases.npz\", rocket.kernels[3])\n",
    "# npzwrite(\"dilations.npz\", rocket.kernels[4])\n",
    "# npzwrite(\"paddings.npz\", rocket.kernels[5])\n",
    "# npzwrite(\"num_channel_indices.npz\", rocket.kernels[6])\n",
    "# npzwrite(\"channel_indices.npz\", rocket.kernels[7])"
   ]
  },
  {
   "cell_type": "code",
   "execution_count": 5,
   "id": "799be4e2",
   "metadata": {},
   "outputs": [
    {
     "data": {
      "text/plain": [
       "40×20000 Matrix{Float32}:\n",
       " 0.8       12.2711  0.333333  10.6475   …  0.984375  7.28445  0.2   1.88095\n",
       " 0.457143  21.3142  0.452381  13.8534      0.609375  3.44641  0.6   7.55089\n",
       " 0.5       11.9676  0.5       10.9609      0.90625   6.7974   0.5   4.88879\n",
       " 0.528571  19.9806  0.47619   14.9113      0.703125  4.96848  0.6   8.75006\n",
       " 0.585714  14.1829  0.47619   25.4742      0.625     2.86406  0.5  10.7241\n",
       " 0.557143  22.0573  0.488095   9.40935  …  0.65625   3.63114  0.4   8.15069\n",
       " 0.5       21.9326  0.428571  21.5212      0.625     3.45545  0.6   6.56597\n",
       " 0.542857  17.9263  0.5       13.1234      0.625     3.28033  0.8  12.5698\n",
       " 0.557143  17.4591  0.488095  14.302       0.625     4.22762  0.4   7.31534\n",
       " 0.5       25.6478  0.416667  15.66        0.90625   5.85676  0.5   9.39244\n",
       " 0.428571  22.2117  0.511905  12.6734   …  0.609375  3.88088  0.5   9.68899\n",
       " 0.442857  22.3716  0.47619   10.0044      0.578125  4.40861  0.6  10.7118\n",
       " 0.471429  20.0956  0.511905  10.7166      0.578125  3.79991  0.8   9.87301\n",
       " ⋮                                      ⋱                          \n",
       " 0.514286  15.9344  0.511905  17.8289      0.578125  4.84623  0.7  10.1457\n",
       " 0.514286  19.3706  0.452381  15.3089      0.609375  3.28483  0.8   8.78271\n",
       " 0.6       32.4511  0.52381   17.0428   …  0.640625  5.56331  0.8  14.7509\n",
       " 0.485714  26.3889  0.464286  15.949       0.65625   4.1134   0.7  15.0627\n",
       " 0.614286  23.6136  0.488095  16.9496      0.671875  4.93062  0.4   2.47972\n",
       " 0.557143  23.0908  0.47619   14.6176      0.625     5.35455  0.8   8.38465\n",
       " 0.5       34.533   0.380952  16.2918      0.59375   9.73213  0.7  13.1043\n",
       " 0.571429  26.113   0.452381  30.3296   …  0.640625  4.73809  0.8  11.586\n",
       " 0.428571  27.9313  0.440476  16.3702      0.65625   6.44772  0.4  13.5778\n",
       " 0.471429  18.8467  0.452381  12.0946      0.640625  3.87045  0.8  11.0089\n",
       " 0.4       30.8495  0.47619   15.0823      0.625     3.19644  0.5  12.0521\n",
       " 0.542857  22.014   0.488095  27.69        0.59375   3.96546  0.5   9.12133"
      ]
     },
     "execution_count": 5,
     "metadata": {},
     "output_type": "execute_result"
    }
   ],
   "source": [
    "X_train_transform = transform!(rocket, X_train)\n",
    "X_test_transform = transform!(rocket, X_test)"
   ]
  },
  {
   "cell_type": "code",
   "execution_count": 6,
   "id": "5f3272b0",
   "metadata": {
    "scrolled": false
   },
   "outputs": [
    {
     "name": "stdout",
     "output_type": "stream",
     "text": [
      "Collecting package metadata (current_repodata.json): ...working... done\n",
      "Solving environment: ...working... done\n",
      "\n",
      "# All requested packages already installed.\n",
      "\n"
     ]
    },
    {
     "name": "stderr",
     "output_type": "stream",
     "text": [
      "┌ Info: Running `conda install -y -c conda-forge llvm-openmp` in root environment\n",
      "└ @ Conda /Users/wiktor/.julia/packages/Conda/x2UxR/src/Conda.jl:127\n",
      "/Users/wiktor/.julia/conda/3/lib/python3.8/site-packages/sklearn/linear_model/_base.py:141: FutureWarning: 'normalize' was deprecated in version 1.0 and will be removed in 1.2.\n",
      "If you wish to scale the data, use Pipeline with a StandardScaler in a preprocessing stage. To reproduce the previous behavior:\n",
      "\n",
      "from sklearn.pipeline import make_pipeline\n",
      "\n",
      "model = make_pipeline(StandardScaler(with_mean=False), _RidgeGCV())\n",
      "\n",
      "If you wish to pass a sample_weight parameter, you need to pass it as a fit parameter to each step of the pipeline as follows:\n",
      "\n",
      "kwargs = {s[0] + '__sample_weight': sample_weight for s in model.steps}\n",
      "model.fit(X, y, **kwargs)\n",
      "\n",
      "Set parameter alphas to: original_alphas * n_samples. \n",
      "  warnings.warn(\n"
     ]
    },
    {
     "data": {
      "text/plain": [
       "1.0"
      ]
     },
     "execution_count": 6,
     "metadata": {},
     "output_type": "execute_result"
    }
   ],
   "source": [
    "using ScikitLearn\n",
    "@sk_import linear_model : RidgeClassifierCV\n",
    "alphas = [1.00000000e-03, 4.64158883e-03, 2.15443469e-02, 1.00000000e-01,\n",
    "       4.64158883e-01, 2.15443469e+00, 1.00000000e+01, 4.64158883e+01,\n",
    "       2.15443469e+02, 1.00000000e+03]\n",
    "ridge = RidgeClassifierCV(alphas=alphas, normalize=true);\n",
    "ridge.fit(X_train_transform, y_train)\n",
    "ridge.score(X_test_transform, y_test)"
   ]
  },
  {
   "cell_type": "code",
   "execution_count": null,
   "id": "9b2604b1",
   "metadata": {},
   "outputs": [],
   "source": []
  }
 ],
 "metadata": {
  "kernelspec": {
   "display_name": "Julia 1.7.3",
   "language": "julia",
   "name": "julia-1.7"
  },
  "language_info": {
   "file_extension": ".jl",
   "mimetype": "application/julia",
   "name": "julia",
   "version": "1.7.3"
  }
 },
 "nbformat": 4,
 "nbformat_minor": 5
}
