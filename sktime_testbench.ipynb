{
 "cells": [
  {
   "cell_type": "code",
   "execution_count": 6,
   "id": "30bcfa60",
   "metadata": {},
   "outputs": [],
   "source": [
    "import numpy as np\n",
    "from sktime.datasets import load_basic_motions  # multivariate dataset"
   ]
  },
  {
   "cell_type": "code",
   "execution_count": 34,
   "id": "8ab0afed",
   "metadata": {},
   "outputs": [],
   "source": [
    "X_test, y_test = load_basic_motions(split=\"train\", return_X_y=True)"
   ]
  },
  {
   "cell_type": "code",
   "execution_count": 36,
   "id": "bfa70d2b",
   "metadata": {},
   "outputs": [
    {
     "data": {
      "text/plain": [
       "0     0.079106\n",
       "1     0.079106\n",
       "2    -0.903497\n",
       "3     1.116125\n",
       "4     1.638200\n",
       "        ...   \n",
       "95   -0.167918\n",
       "96   -0.227670\n",
       "97   -0.193271\n",
       "98   -0.193271\n",
       "99   -0.205150\n",
       "Length: 100, dtype: float64"
      ]
     },
     "execution_count": 36,
     "metadata": {},
     "output_type": "execute_result"
    }
   ],
   "source": [
    "X_test['dim_0'][0]"
   ]
  },
  {
   "cell_type": "code",
   "execution_count": null,
   "id": "8d87c4d6",
   "metadata": {},
   "outputs": [],
   "source": []
  },
  {
   "cell_type": "code",
   "execution_count": null,
   "id": "9c121974",
   "metadata": {},
   "outputs": [],
   "source": []
  }
 ],
 "metadata": {
  "kernelspec": {
   "display_name": "Python 3 (ipykernel)",
   "language": "python",
   "name": "python3"
  },
  "language_info": {
   "codemirror_mode": {
    "name": "ipython",
    "version": 3
   },
   "file_extension": ".py",
   "mimetype": "text/x-python",
   "name": "python",
   "nbconvert_exporter": "python",
   "pygments_lexer": "ipython3",
   "version": "3.9.12"
  }
 },
 "nbformat": 4,
 "nbformat_minor": 5
}
